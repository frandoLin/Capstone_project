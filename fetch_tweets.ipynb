{
 "cells": [
  {
   "cell_type": "code",
   "execution_count": 1,
   "metadata": {},
   "outputs": [],
   "source": [
    "import tweepy\n",
    "import numpy as np\n",
    "import pandas as pd\n",
    "import json"
   ]
  },
  {
   "cell_type": "markdown",
   "metadata": {},
   "source": [
    "### Use Twitter API to fetch the tweets containing the hashtag #reopen"
   ]
  },
  {
   "cell_type": "code",
   "execution_count": 2,
   "metadata": {},
   "outputs": [],
   "source": [
    "with open('api.json', 'r') as json_file:\n",
    "    twitter_api = json.load(json_file)\n",
    "\n",
    "consumer_key = twitter_api['consumer_key']\n",
    "consumer_secret = twitter_api['consumer_secret']\n",
    "access_token = twitter_api['access_token']\n",
    "access_token_secret = twitter_api['access_token_secret']\n",
    "\n",
    "auth = tweepy.OAuthHandler(consumer_key, consumer_secret)\n",
    "auth.set_access_token(access_token, access_token_secret)\n",
    "\n",
    "api = tweepy.API(auth, wait_on_rate_limit= True)"
   ]
  },
  {
   "cell_type": "code",
   "execution_count": 3,
   "metadata": {},
   "outputs": [],
   "source": [
    "#Create class MyStreamListener inheriting from StreamListener and overriding on_status.\n",
    "class StreamListener(tweepy.StreamListener):\n",
    "    \n",
    "    #Constructor in python\n",
    "    def __init__(self, api=None):\n",
    "        \n",
    "        super(StreamListener, self).__init__()\n",
    "        self.num_tweets = 0\n",
    "        self.file = open(\"tweets.txt\", \"w\")\n",
    "        \n",
    "    def on_status(self, status):\n",
    "\n",
    "        if ('RT @' not in status.text):\n",
    "            print(status.text)\n",
    "            tweet = status._json\n",
    "            self.file.write( json.dumps(tweet) + '\\n' )\n",
    "            self.num_tweets += 1\n",
    "            print(self.num_tweets)\n",
    "        if self.num_tweets < 50:\n",
    "            return True\n",
    "        else:\n",
    "            return False\n",
    "        self.file.close()\n",
    "\n",
    "    #In order to close the stream you need to return False from on_data(), or on_status().\n",
    "    #Because tweepy.Stream() runs a while loop itself, you don't need the while loop in on_data()\n",
    "    def on_error(self, status_code):\n",
    "        if status_code == 420:\n",
    "            return False\n",
    "\n",
    "stream_listener = StreamListener()\n",
    "stream = tweepy.Stream(auth=api.auth, listener=stream_listener)\n",
    "stream.filter(track=['#reopen', '#Reopen', '#ReOpen', '#Reopening', '#reopening'])"
   ]
  },
  {
   "cell_type": "markdown",
   "metadata": {},
   "source": [
    "### While Filter API can fetch streaming data, Search API is a more efficient way for my project "
   ]
  },
  {
   "cell_type": "code",
   "execution_count": 3,
   "metadata": {},
   "outputs": [],
   "source": [
    "file = open(\"twitter.txt\", \"w\")\n",
    "\n",
    "# Search the matched tweets within the recent 7 days\n",
    "cursor = tweepy.Cursor(api.search, q='#reopen OR #reopening', count= 100, result_type = 'recent', lang='en',\n",
    "                        tweet_mode='extended').items()\n",
    "\n",
    "for status in cursor:\n",
    "    \n",
    "    \"\"\"status is json which is an object so hasattr() works but the method not work for dictionary \"\"\"\n",
    "    \n",
    "    if not hasattr(status, \"retweeted_status\"):  # Check if Retweet\n",
    "        \n",
    "        tweet = status._json\n",
    "        file.write(json.dumps(tweet) + '\\n')\n",
    "\n",
    "file.close()  "
   ]
  },
  {
   "cell_type": "code",
   "execution_count": null,
   "metadata": {},
   "outputs": [],
   "source": []
  }
 ],
 "metadata": {
  "kernelspec": {
   "display_name": "Python 3",
   "language": "python",
   "name": "python3"
  },
  "language_info": {
   "codemirror_mode": {
    "name": "ipython",
    "version": 3
   },
   "file_extension": ".py",
   "mimetype": "text/x-python",
   "name": "python",
   "nbconvert_exporter": "python",
   "pygments_lexer": "ipython3",
   "version": "3.6.10"
  }
 },
 "nbformat": 4,
 "nbformat_minor": 4
}
