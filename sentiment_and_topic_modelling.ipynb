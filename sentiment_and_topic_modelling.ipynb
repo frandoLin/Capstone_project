{
 "cells": [
  {
   "cell_type": "code",
   "execution_count": 1,
   "metadata": {},
   "outputs": [],
   "source": [
    "from fetch_tweets import SearchTweets\n",
    "import numpy as np\n",
    "import json\n",
    "import pandas as pd\n",
    "import matplotlib.pyplot as plt\n",
    "import re\n",
    "import html\n",
    "import spacy\n",
    "from nltk.sentiment.vader import SentimentIntensityAnalyzer\n",
    "from sklearn.feature_extraction.text import CountVectorizer\n",
    "from sklearn.decomposition import NMF\n",
    "\n",
    "plt.style.use(\"ggplot\")\n",
    "\n",
    "sid = SentimentIntensityAnalyzer()\n",
    "nlp = spacy.load(\"en_core_web_lg\")"
   ]
  },
  {
   "cell_type": "markdown",
   "metadata": {},
   "source": [
    "### Select the hashtags to fetch the tweets"
   ]
  },
  {
   "cell_type": "code",
   "execution_count": 2,
   "metadata": {},
   "outputs": [
    {
     "name": "stdout",
     "output_type": "stream",
     "text": [
      "Saved the tweets to twitter_#reopen_#reopening.txt\n"
     ]
    }
   ],
   "source": [
    "# the argument take either a single string or a list of string\n",
    "reopen = SearchTweets(['reopen', 'reopening'])\n",
    "reopen.fetch_tweets()"
   ]
  },
  {
   "cell_type": "markdown",
   "metadata": {},
   "source": [
    "### Read the fetched tweets"
   ]
  },
  {
   "cell_type": "code",
   "execution_count": 3,
   "metadata": {},
   "outputs": [
    {
     "data": {
      "text/html": [
       "<div>\n",
       "<style scoped>\n",
       "    .dataframe tbody tr th:only-of-type {\n",
       "        vertical-align: middle;\n",
       "    }\n",
       "\n",
       "    .dataframe tbody tr th {\n",
       "        vertical-align: top;\n",
       "    }\n",
       "\n",
       "    .dataframe thead th {\n",
       "        text-align: right;\n",
       "    }\n",
       "</style>\n",
       "<table border=\"1\" class=\"dataframe\">\n",
       "  <thead>\n",
       "    <tr style=\"text-align: right;\">\n",
       "      <th></th>\n",
       "      <th>created_at</th>\n",
       "      <th>id</th>\n",
       "      <th>id_str</th>\n",
       "      <th>full_text</th>\n",
       "      <th>truncated</th>\n",
       "      <th>display_text_range</th>\n",
       "      <th>entities</th>\n",
       "      <th>extended_entities</th>\n",
       "      <th>metadata</th>\n",
       "      <th>source</th>\n",
       "      <th>...</th>\n",
       "      <th>is_quote_status</th>\n",
       "      <th>retweet_count</th>\n",
       "      <th>favorite_count</th>\n",
       "      <th>favorited</th>\n",
       "      <th>retweeted</th>\n",
       "      <th>possibly_sensitive</th>\n",
       "      <th>lang</th>\n",
       "      <th>quoted_status_id</th>\n",
       "      <th>quoted_status_id_str</th>\n",
       "      <th>quoted_status</th>\n",
       "    </tr>\n",
       "  </thead>\n",
       "  <tbody>\n",
       "    <tr>\n",
       "      <th>0</th>\n",
       "      <td>Sat Jun 06 19:42:26 +0000 2020</td>\n",
       "      <td>1269353978505998338</td>\n",
       "      <td>1269353978505998338</td>\n",
       "      <td>Mosque opening puts DMW in tizzy\\nhttps://t.co...</td>\n",
       "      <td>False</td>\n",
       "      <td>[0, 180]</td>\n",
       "      <td>{'hashtags': [{'text': 'Makkah_Masjid', 'indic...</td>\n",
       "      <td>{'media': [{'id': 1269353090718633984, 'id_str...</td>\n",
       "      <td>{'iso_language_code': 'en', 'result_type': 're...</td>\n",
       "      <td>&lt;a href=\"https://mobile.twitter.com\" rel=\"nofo...</td>\n",
       "      <td>...</td>\n",
       "      <td>False</td>\n",
       "      <td>0</td>\n",
       "      <td>0</td>\n",
       "      <td>False</td>\n",
       "      <td>False</td>\n",
       "      <td>False</td>\n",
       "      <td>en</td>\n",
       "      <td>NaN</td>\n",
       "      <td>NaN</td>\n",
       "      <td>NaN</td>\n",
       "    </tr>\n",
       "    <tr>\n",
       "      <th>1</th>\n",
       "      <td>Sat Jun 06 19:31:48 +0000 2020</td>\n",
       "      <td>1269351302506708995</td>\n",
       "      <td>1269351302506708995</td>\n",
       "      <td>Hoping there’s not many more of these #saturda...</td>\n",
       "      <td>False</td>\n",
       "      <td>[0, 191]</td>\n",
       "      <td>{'hashtags': [{'text': 'saturdaynights', 'indi...</td>\n",
       "      <td>{'media': [{'id': 1269351297322496000, 'id_str...</td>\n",
       "      <td>{'iso_language_code': 'en', 'result_type': 're...</td>\n",
       "      <td>&lt;a href=\"http://twitter.com/download/iphone\" r...</td>\n",
       "      <td>...</td>\n",
       "      <td>False</td>\n",
       "      <td>0</td>\n",
       "      <td>0</td>\n",
       "      <td>False</td>\n",
       "      <td>False</td>\n",
       "      <td>False</td>\n",
       "      <td>en</td>\n",
       "      <td>NaN</td>\n",
       "      <td>NaN</td>\n",
       "      <td>NaN</td>\n",
       "    </tr>\n",
       "    <tr>\n",
       "      <th>2</th>\n",
       "      <td>Sat Jun 06 19:25:34 +0000 2020</td>\n",
       "      <td>1269349732129730561</td>\n",
       "      <td>1269349732129730561</td>\n",
       "      <td>Gnocchi allo Scoglio\\n\\nHandmade Pasta with Re...</td>\n",
       "      <td>False</td>\n",
       "      <td>[0, 243]</td>\n",
       "      <td>{'hashtags': [{'text': 'ThisIsArtusi', 'indice...</td>\n",
       "      <td>{'media': [{'id': 1269349727377584130, 'id_str...</td>\n",
       "      <td>{'iso_language_code': 'en', 'result_type': 're...</td>\n",
       "      <td>&lt;a href=\"http://twitter.com/download/iphone\" r...</td>\n",
       "      <td>...</td>\n",
       "      <td>False</td>\n",
       "      <td>0</td>\n",
       "      <td>0</td>\n",
       "      <td>False</td>\n",
       "      <td>False</td>\n",
       "      <td>False</td>\n",
       "      <td>en</td>\n",
       "      <td>NaN</td>\n",
       "      <td>NaN</td>\n",
       "      <td>NaN</td>\n",
       "    </tr>\n",
       "    <tr>\n",
       "      <th>3</th>\n",
       "      <td>Sat Jun 06 19:25:02 +0000 2020</td>\n",
       "      <td>1269349601074720768</td>\n",
       "      <td>1269349601074720768</td>\n",
       "      <td>#Salons, #Barbershops and Personal Care #Servi...</td>\n",
       "      <td>False</td>\n",
       "      <td>[0, 105]</td>\n",
       "      <td>{'hashtags': [{'text': 'Salons', 'indices': [0...</td>\n",
       "      <td>NaN</td>\n",
       "      <td>{'iso_language_code': 'en', 'result_type': 're...</td>\n",
       "      <td>&lt;a href=\"https://www.hootsuite.com\" rel=\"nofol...</td>\n",
       "      <td>...</td>\n",
       "      <td>False</td>\n",
       "      <td>0</td>\n",
       "      <td>0</td>\n",
       "      <td>False</td>\n",
       "      <td>False</td>\n",
       "      <td>False</td>\n",
       "      <td>en</td>\n",
       "      <td>NaN</td>\n",
       "      <td>NaN</td>\n",
       "      <td>NaN</td>\n",
       "    </tr>\n",
       "    <tr>\n",
       "      <th>4</th>\n",
       "      <td>Sat Jun 06 19:23:44 +0000 2020</td>\n",
       "      <td>1269349270517317632</td>\n",
       "      <td>1269349270517317632</td>\n",
       "      <td>Good article on the #FreeMarket's ability for ...</td>\n",
       "      <td>False</td>\n",
       "      <td>[0, 246]</td>\n",
       "      <td>{'hashtags': [{'text': 'FreeMarket', 'indices'...</td>\n",
       "      <td>NaN</td>\n",
       "      <td>{'iso_language_code': 'en', 'result_type': 're...</td>\n",
       "      <td>&lt;a href=\"http://twitter.com/download/android\" ...</td>\n",
       "      <td>...</td>\n",
       "      <td>False</td>\n",
       "      <td>0</td>\n",
       "      <td>0</td>\n",
       "      <td>False</td>\n",
       "      <td>False</td>\n",
       "      <td>False</td>\n",
       "      <td>en</td>\n",
       "      <td>NaN</td>\n",
       "      <td>NaN</td>\n",
       "      <td>NaN</td>\n",
       "    </tr>\n",
       "  </tbody>\n",
       "</table>\n",
       "<p>5 rows × 30 columns</p>\n",
       "</div>"
      ],
      "text/plain": [
       "                       created_at                   id               id_str  \\\n",
       "0  Sat Jun 06 19:42:26 +0000 2020  1269353978505998338  1269353978505998338   \n",
       "1  Sat Jun 06 19:31:48 +0000 2020  1269351302506708995  1269351302506708995   \n",
       "2  Sat Jun 06 19:25:34 +0000 2020  1269349732129730561  1269349732129730561   \n",
       "3  Sat Jun 06 19:25:02 +0000 2020  1269349601074720768  1269349601074720768   \n",
       "4  Sat Jun 06 19:23:44 +0000 2020  1269349270517317632  1269349270517317632   \n",
       "\n",
       "                                           full_text  truncated  \\\n",
       "0  Mosque opening puts DMW in tizzy\\nhttps://t.co...      False   \n",
       "1  Hoping there’s not many more of these #saturda...      False   \n",
       "2  Gnocchi allo Scoglio\\n\\nHandmade Pasta with Re...      False   \n",
       "3  #Salons, #Barbershops and Personal Care #Servi...      False   \n",
       "4  Good article on the #FreeMarket's ability for ...      False   \n",
       "\n",
       "  display_text_range                                           entities  \\\n",
       "0           [0, 180]  {'hashtags': [{'text': 'Makkah_Masjid', 'indic...   \n",
       "1           [0, 191]  {'hashtags': [{'text': 'saturdaynights', 'indi...   \n",
       "2           [0, 243]  {'hashtags': [{'text': 'ThisIsArtusi', 'indice...   \n",
       "3           [0, 105]  {'hashtags': [{'text': 'Salons', 'indices': [0...   \n",
       "4           [0, 246]  {'hashtags': [{'text': 'FreeMarket', 'indices'...   \n",
       "\n",
       "                                   extended_entities  \\\n",
       "0  {'media': [{'id': 1269353090718633984, 'id_str...   \n",
       "1  {'media': [{'id': 1269351297322496000, 'id_str...   \n",
       "2  {'media': [{'id': 1269349727377584130, 'id_str...   \n",
       "3                                                NaN   \n",
       "4                                                NaN   \n",
       "\n",
       "                                            metadata  \\\n",
       "0  {'iso_language_code': 'en', 'result_type': 're...   \n",
       "1  {'iso_language_code': 'en', 'result_type': 're...   \n",
       "2  {'iso_language_code': 'en', 'result_type': 're...   \n",
       "3  {'iso_language_code': 'en', 'result_type': 're...   \n",
       "4  {'iso_language_code': 'en', 'result_type': 're...   \n",
       "\n",
       "                                              source  ...  is_quote_status  \\\n",
       "0  <a href=\"https://mobile.twitter.com\" rel=\"nofo...  ...            False   \n",
       "1  <a href=\"http://twitter.com/download/iphone\" r...  ...            False   \n",
       "2  <a href=\"http://twitter.com/download/iphone\" r...  ...            False   \n",
       "3  <a href=\"https://www.hootsuite.com\" rel=\"nofol...  ...            False   \n",
       "4  <a href=\"http://twitter.com/download/android\" ...  ...            False   \n",
       "\n",
       "  retweet_count  favorite_count favorited retweeted possibly_sensitive lang  \\\n",
       "0             0               0     False     False              False   en   \n",
       "1             0               0     False     False              False   en   \n",
       "2             0               0     False     False              False   en   \n",
       "3             0               0     False     False              False   en   \n",
       "4             0               0     False     False              False   en   \n",
       "\n",
       "  quoted_status_id quoted_status_id_str quoted_status  \n",
       "0              NaN                  NaN           NaN  \n",
       "1              NaN                  NaN           NaN  \n",
       "2              NaN                  NaN           NaN  \n",
       "3              NaN                  NaN           NaN  \n",
       "4              NaN                  NaN           NaN  \n",
       "\n",
       "[5 rows x 30 columns]"
      ]
     },
     "execution_count": 3,
     "metadata": {},
     "output_type": "execute_result"
    }
   ],
   "source": [
    "tweets_file = open(\"twitter_#reopen_#reopening.txt\", \"r\")\n",
    "\n",
    "# Read in tweets and store in list: tweets\n",
    "tweets =[json.loads(line) for line in tweets_file]\n",
    "\n",
    "tweets_file.close()\n",
    "\n",
    "# Convert the json to the dataframe \n",
    "tweets_df = pd.DataFrame(tweets)\n",
    "tweets_df.head()"
   ]
  },
  {
   "cell_type": "markdown",
   "metadata": {},
   "source": [
    "### Extract the relevant info from the tweet status "
   ]
  },
  {
   "cell_type": "code",
   "execution_count": 4,
   "metadata": {},
   "outputs": [],
   "source": [
    "tweets_df.source = [re.sub(r'<.+?>', '', x) for x in tweets_df.source]\n",
    "tweets_df['user_id_str'] = [user['id_str'] for user in tweets_df.user]\n",
    "tweets_df['user_name'] = [user['name'] for user in tweets_df.user]\n",
    "tweets_df['user_screen_name'] = [user['screen_name'] for user in tweets_df.user]\n",
    "tweets_df['user_location'] = [user['location'] for user in tweets_df.user]\n",
    "tweets_df['user_profile'] = [user['description'] for user in tweets_df.user]\n",
    "tweets_df['tweets_count'] = [user['statuses_count'] for user in tweets_df.user]\n",
    "tweets_df['user_profile_image'] = [user['profile_image_url_https'] for user in tweets_df.user]\n",
    "tweets_df['user_profile_banner'] = \\\n",
    "    [False if \"profile_banner_url\" not in user else user['profile_banner_url'] for user in tweets_df.user]\n",
    "tweets_df['if_notifications'] = [user['notifications'] for user in tweets_df.user]"
   ]
  },
  {
   "cell_type": "code",
   "execution_count": 5,
   "metadata": {},
   "outputs": [],
   "source": [
    "# list_tags = []\n",
    "# for tweet in tweets_df.entities:\n",
    "#     temp = []\n",
    "#     for hashtag in tweet['hashtags']:\n",
    "#         temp.append(hashtag['text'])\n",
    "#     list_tags.append(\" \".join(temp))\n",
    "# tweets_df['hashtags'] = list_tags "
   ]
  },
  {
   "cell_type": "code",
   "execution_count": 6,
   "metadata": {},
   "outputs": [],
   "source": [
    "# filter down to target columns \n",
    "target_col = ['created_at', 'id_str', 'full_text', 'user_id_str', 'user_name',\n",
    "                'user_screen_name','user_location', 'user_profile', 'tweets_count', 'user_profile_image',\n",
    "                'user_profile_banner', 'if_notifications']"
   ]
  },
  {
   "cell_type": "code",
   "execution_count": 7,
   "metadata": {},
   "outputs": [],
   "source": [
    "tweets_df = tweets_df[target_col]"
   ]
  },
  {
   "cell_type": "code",
   "execution_count": 8,
   "metadata": {},
   "outputs": [
    {
     "data": {
      "text/html": [
       "<div>\n",
       "<style scoped>\n",
       "    .dataframe tbody tr th:only-of-type {\n",
       "        vertical-align: middle;\n",
       "    }\n",
       "\n",
       "    .dataframe tbody tr th {\n",
       "        vertical-align: top;\n",
       "    }\n",
       "\n",
       "    .dataframe thead th {\n",
       "        text-align: right;\n",
       "    }\n",
       "</style>\n",
       "<table border=\"1\" class=\"dataframe\">\n",
       "  <thead>\n",
       "    <tr style=\"text-align: right;\">\n",
       "      <th></th>\n",
       "      <th>created_at</th>\n",
       "      <th>id_str</th>\n",
       "      <th>full_text</th>\n",
       "      <th>user_id_str</th>\n",
       "      <th>user_name</th>\n",
       "      <th>user_screen_name</th>\n",
       "      <th>user_location</th>\n",
       "      <th>user_profile</th>\n",
       "      <th>tweets_count</th>\n",
       "      <th>user_profile_image</th>\n",
       "      <th>user_profile_banner</th>\n",
       "      <th>if_notifications</th>\n",
       "    </tr>\n",
       "  </thead>\n",
       "  <tbody>\n",
       "    <tr>\n",
       "      <th>0</th>\n",
       "      <td>Mon May 11 18:19:01 +0000 2020</td>\n",
       "      <td>1259910903065124865</td>\n",
       "      <td>@HuffPostPol If they keep it up #reopen and nu...</td>\n",
       "      <td>1255626730817097728</td>\n",
       "      <td>germano</td>\n",
       "      <td>_g__x</td>\n",
       "      <td>New Hampshire, USA</td>\n",
       "      <td>I’m #union I #vote #organize #protest march an...</td>\n",
       "      <td>583</td>\n",
       "      <td>https://pbs.twimg.com/profile_images/125733420...</td>\n",
       "      <td>https://pbs.twimg.com/profile_banners/12556267...</td>\n",
       "      <td>False</td>\n",
       "    </tr>\n",
       "    <tr>\n",
       "      <th>1</th>\n",
       "      <td>Mon May 11 18:18:34 +0000 2020</td>\n",
       "      <td>1259910789437231105</td>\n",
       "      <td>In Pictures: Shanghai Disneyland reopens - BBC...</td>\n",
       "      <td>2803733928</td>\n",
       "      <td>Richard Norman Poet</td>\n",
       "      <td>ElmerPalaceSE25</td>\n",
       "      <td>Brighton, England</td>\n",
       "      <td>Employee Benefits Manager, Sports Fan, Music L...</td>\n",
       "      <td>21849</td>\n",
       "      <td>https://pbs.twimg.com/profile_images/846709045...</td>\n",
       "      <td>https://pbs.twimg.com/profile_banners/28037339...</td>\n",
       "      <td>False</td>\n",
       "    </tr>\n",
       "    <tr>\n",
       "      <th>2</th>\n",
       "      <td>Mon May 11 18:17:36 +0000 2020</td>\n",
       "      <td>1259910545312043011</td>\n",
       "      <td>As Virginia plans for Phase One of reopening b...</td>\n",
       "      <td>18937089</td>\n",
       "      <td>Sands Anderson PC</td>\n",
       "      <td>SandsAnderson</td>\n",
       "      <td>Virginia, North Carolina</td>\n",
       "      <td>Lawyers and legal services for business, inves...</td>\n",
       "      <td>2321</td>\n",
       "      <td>https://pbs.twimg.com/profile_images/125837105...</td>\n",
       "      <td>https://pbs.twimg.com/profile_banners/18937089...</td>\n",
       "      <td>False</td>\n",
       "    </tr>\n",
       "    <tr>\n",
       "      <th>3</th>\n",
       "      <td>Mon May 11 18:17:24 +0000 2020</td>\n",
       "      <td>1259910493373784065</td>\n",
       "      <td>The #UK is posed to #reopen many industries, i...</td>\n",
       "      <td>733878114011381760</td>\n",
       "      <td>Farista Sairuv</td>\n",
       "      <td>FSairuv</td>\n",
       "      <td>Edmonton, Alberta, Canada</td>\n",
       "      <td></td>\n",
       "      <td>7980</td>\n",
       "      <td>https://pbs.twimg.com/profile_images/833022392...</td>\n",
       "      <td>https://pbs.twimg.com/profile_banners/73387811...</td>\n",
       "      <td>False</td>\n",
       "    </tr>\n",
       "    <tr>\n",
       "      <th>4</th>\n",
       "      <td>Mon May 11 18:16:38 +0000 2020</td>\n",
       "      <td>1259910299844513793</td>\n",
       "      <td>Businesses must take #properprecautions to #sa...</td>\n",
       "      <td>469375119</td>\n",
       "      <td>SaveEnergySystems</td>\n",
       "      <td>SaveEnergySys</td>\n",
       "      <td>Massachusetts</td>\n",
       "      <td>Simple, innovative solutions that reduce energ...</td>\n",
       "      <td>415</td>\n",
       "      <td>https://pbs.twimg.com/profile_images/124068662...</td>\n",
       "      <td>https://pbs.twimg.com/profile_banners/46937511...</td>\n",
       "      <td>False</td>\n",
       "    </tr>\n",
       "  </tbody>\n",
       "</table>\n",
       "</div>"
      ],
      "text/plain": [
       "                       created_at               id_str  \\\n",
       "0  Mon May 11 18:19:01 +0000 2020  1259910903065124865   \n",
       "1  Mon May 11 18:18:34 +0000 2020  1259910789437231105   \n",
       "2  Mon May 11 18:17:36 +0000 2020  1259910545312043011   \n",
       "3  Mon May 11 18:17:24 +0000 2020  1259910493373784065   \n",
       "4  Mon May 11 18:16:38 +0000 2020  1259910299844513793   \n",
       "\n",
       "                                           full_text          user_id_str  \\\n",
       "0  @HuffPostPol If they keep it up #reopen and nu...  1255626730817097728   \n",
       "1  In Pictures: Shanghai Disneyland reopens - BBC...           2803733928   \n",
       "2  As Virginia plans for Phase One of reopening b...             18937089   \n",
       "3  The #UK is posed to #reopen many industries, i...   733878114011381760   \n",
       "4  Businesses must take #properprecautions to #sa...            469375119   \n",
       "\n",
       "             user_name user_screen_name              user_location  \\\n",
       "0              germano            _g__x         New Hampshire, USA   \n",
       "1  Richard Norman Poet  ElmerPalaceSE25          Brighton, England   \n",
       "2    Sands Anderson PC    SandsAnderson   Virginia, North Carolina   \n",
       "3       Farista Sairuv          FSairuv  Edmonton, Alberta, Canada   \n",
       "4    SaveEnergySystems    SaveEnergySys              Massachusetts   \n",
       "\n",
       "                                        user_profile  tweets_count  \\\n",
       "0  I’m #union I #vote #organize #protest march an...           583   \n",
       "1  Employee Benefits Manager, Sports Fan, Music L...         21849   \n",
       "2  Lawyers and legal services for business, inves...          2321   \n",
       "3                                                             7980   \n",
       "4  Simple, innovative solutions that reduce energ...           415   \n",
       "\n",
       "                                  user_profile_image  \\\n",
       "0  https://pbs.twimg.com/profile_images/125733420...   \n",
       "1  https://pbs.twimg.com/profile_images/846709045...   \n",
       "2  https://pbs.twimg.com/profile_images/125837105...   \n",
       "3  https://pbs.twimg.com/profile_images/833022392...   \n",
       "4  https://pbs.twimg.com/profile_images/124068662...   \n",
       "\n",
       "                                 user_profile_banner  if_notifications  \n",
       "0  https://pbs.twimg.com/profile_banners/12556267...             False  \n",
       "1  https://pbs.twimg.com/profile_banners/28037339...             False  \n",
       "2  https://pbs.twimg.com/profile_banners/18937089...             False  \n",
       "3  https://pbs.twimg.com/profile_banners/73387811...             False  \n",
       "4  https://pbs.twimg.com/profile_banners/46937511...             False  "
      ]
     },
     "execution_count": 8,
     "metadata": {},
     "output_type": "execute_result"
    }
   ],
   "source": [
    "tweets_df.head()"
   ]
  },
  {
   "cell_type": "markdown",
   "metadata": {},
   "source": [
    "### Use the text below as a example to do match up because I do not use Twitter "
   ]
  },
  {
   "cell_type": "code",
   "execution_count": 9,
   "metadata": {},
   "outputs": [
    {
     "data": {
      "text/plain": [
       "{'neg': 0.429, 'neu': 0.571, 'pos': 0.0, 'compound': -0.3089}"
      ]
     },
     "execution_count": 9,
     "metadata": {},
     "output_type": "execute_result"
    }
   ],
   "source": [
    "# use the pre-trained model Vader to predict the sentiment on the text  \n",
    "sid.polarity_scores('reopen is not smart')"
   ]
  },
  {
   "cell_type": "code",
   "execution_count": 10,
   "metadata": {},
   "outputs": [],
   "source": [
    "# calculate the absolute difference between my sentiment and others \n",
    "tweets_df['diff_sentiment_score'] = [abs(-0.3089 - sid.polarity_scores(x)['compound']) for x in tweets_df.full_text]"
   ]
  },
  {
   "cell_type": "code",
   "execution_count": 11,
   "metadata": {},
   "outputs": [],
   "source": [
    "# the top 15 users having the close sentiments \n",
    "matched_idx = tweets_df.diff_sentiment_score.sort_values()[0:15].index\n",
    "matched_name = tweets_df[tweets_df.index.isin(matched_idx)].user_screen_name.tolist()"
   ]
  },
  {
   "cell_type": "markdown",
   "metadata": {},
   "source": [
    "### Fetch the 10 recent tweets in the matched user's timeline for further matches (not including retweets)"
   ]
  },
  {
   "cell_type": "code",
   "execution_count": 19,
   "metadata": {},
   "outputs": [],
   "source": [
    "list_user_timeline = []\n",
    "\n",
    "for user in matched_name:\n",
    "    \n",
    "    #print(user) #just in case some users would cancel their accounts \n",
    "    \n",
    "    i = 0\n",
    "    matched_user_timeline = []\n",
    "    max_id = None\n",
    "    \n",
    "    while (i < 10):\n",
    "        \n",
    "        statuses = api.user_timeline(screen_name = user, count =10, max_id = max_id, tweet_mode = 'extended')\n",
    "        \n",
    "        # because list.extend() modifies the list in place. It doesn't create a new list. The convention in Python is \n",
    "        # to then return None becauses you already have a reference to the object. The same applies to dict.update(), set.add()\n",
    "        # e.g: tt = [] tt.extend([1,2]) len(tt)\n",
    "        matched_user_timeline.extend([x._json['full_text'] for x in statuses \\\n",
    "                                      if not hasattr(x, \"retweeted_status\") and x._json['in_reply_to_status_id'] == None])#including  relpies or not?\n",
    "        \n",
    "        i = len(matched_user_timeline)\n",
    "        \n",
    "        if i < 10:\n",
    "            max_id = statuses[-1]._json['id_str']\n",
    "            \n",
    "    list_user_timeline.append(\" \".join(matched_user_timeline[0:10]))"
   ]
  },
  {
   "cell_type": "code",
   "execution_count": 3,
   "metadata": {},
   "outputs": [],
   "source": [
    "import pickle"
   ]
  },
  {
   "cell_type": "code",
   "execution_count": null,
   "metadata": {},
   "outputs": [],
   "source": [
    "# with open(\"user_timeline.txt\", \"wb\") as fp:   #Pickling\n",
    "#     pickle.dump(list_user_timeline, fp)"
   ]
  },
  {
   "cell_type": "code",
   "execution_count": 4,
   "metadata": {},
   "outputs": [],
   "source": [
    "with open(\"user_timeline.txt\", \"rb\") as fp:   # Unpickling\n",
    "    list_user_timeline = pickle.load(fp)"
   ]
  },
  {
   "cell_type": "markdown",
   "metadata": {},
   "source": [
    "### Data preprocessing "
   ]
  },
  {
   "cell_type": "code",
   "execution_count": 5,
   "metadata": {},
   "outputs": [],
   "source": [
    "list_text_lemma = []\n",
    "\n",
    "for text in list_user_timeline:\n",
    "    \n",
    "    text = html.unescape(text) # remove the HTML entities   \n",
    "    text = re.sub(r'\\n|#', '', text) #remove '#'\n",
    "    text = re.sub(r'https:\\/\\/\\S+', '', text) #remove hyperlinks \n",
    "    text = re.sub(r'@\\w+', '', text) #remove the people mentioned \n",
    "    \n",
    "    # Convert \"AaBbCc\" to [\"Aa\",\"Bb\", \"Cc\"]\n",
    "    text = \" \".join([\" \".join(re.findall(r'[A-Z][a-z]+',x)) if re.match(r'(?:[A-Z][a-z]+){2,}',x) else x for x in text.split()])\n",
    "    \n",
    "    doc = nlp(text) # tokenize each tweet to tokens \n",
    "    \n",
    "    # Keep only the noun and verb\n",
    "    clean_text = ' '.join([token.lemma_ for token in doc if token.pos_ in ['PROPN','NOUN','VERB'] and token.text.isalpha()])\n",
    "     \n",
    "    list_text_lemma.append(clean_text.lower())"
   ]
  },
  {
   "cell_type": "code",
   "execution_count": 6,
   "metadata": {},
   "outputs": [
    {
     "data": {
      "text/plain": [
       "['jason jordan thank put automate thank tweet follow help reach subscriber youtube will return favor follow will subscribe channel thank jason jordan follow ff follow travel avritt favorites daily picks thank travel disney hi babu bhaiya direct babu thank put automate thank tweet follow help reach subscriber youtube will return favor follow will subscribe channel thank babu bhaiya direct babu follow ff follow travel hi gladys redd thank put automate thank tweet follow help reach subscriber youtube will return favor follow will subscribe channel thank gladys redd follow ff follow travel eat lemon expression challenge husband vs wife new video alert drop watch need oven air fryer pressure cooker crockpot dehydrator can ninji foodi love space saving time saving kitchen food foodie brady myers thank put automate thank tweet follow help reach subscriber youtube will return favor follow will subscribe channel',\n",
       " 'aliens jam phone line california offer coronavirus relief ca ask government bail give money illegal thing time go mask know wear mask cross contaminate wear mask right thing time go mask know wear mask cross contaminate wear mask right shock video cdc going door door collect dna blood come door folk can look door door health screening hear get lot guy say video mistake difference nofear say mask wear one go woman speak truth road change decision mask think would know american say stay close call intimacy give america go china wear mask day day horror movie governor lock extend michigan want say bastard would medium',\n",
       " 'g g small cell towers nyc illness exposure warning opposition read question mark suggestion privacy tell difference privacy kong police fire tear gas water cannon protest propose security law eye vision human come year grow richer lockdowns small business wipe find material environment build eye could give people sight incident networking app covve could one hear you tube video site let search censor tube video',\n",
       " 'teacher ask ppe distance measure supermarket worker plate primary volunteer issue guideline school enforce distance reception parent will ask tell headteacher social distance stay alert test organisation charity business direction information new normal will school share strategy headteachers schoolclosuresuk want school do time plan enable consult ht can open school child can distance teacher site five tests schoolclosuresuk can plan opening school one government approach headteachers test schoolsreopene find government plan reopen school moment public inform headteachers can plan school reopen lockdown covidschoolresponse consult headteachers announce school reopen consult headteachers announce school reopen',\n",
       " 'coronavirus escalate assault develop world victim profile begin change die rate country get news ensure see misinformation watch show dive infodemic twitter facebook s app firing line europe privacy watchdog tech giant edge deliver sanction region data protection rule look opportunity candidate disinfo research ph dposition academicjob see debunk claim fact checker world data update daily misinformation infodemic coronavirus facts lifestyle influencers share conspiracy theory coronavirus instagram half account share coronavirus tweet bot accord research carnegie mellon university twitter take research prevalence bot conversation plandemic movie falsehood spread fake danger fight news people tweet re incl link help support point link point may can see twitter user portray',\n",
       " 'can news people die usa september pearl harbors love one commit political spectrum do can lower toll month les kenneth roth send solidarity family loved one work icu ppe reopen hair salon wear mask spare healthcare heroes risk life nurses week states business reopen testing lack federal guidelines death day june ask airport security nationalsecurity strategy warning day take part today michiganprotest disrespect suffering michiganders sacrifice state healthcare heroes man threaten law enforcement state capitol home state happen michigan today journalist respect knowledge can ask give equal time frontline healthcare heroes northern california juan desmarais want undercut sacrifice business put publichealth risk shock california barber juan desmarais care get impact reopening other smallbusinesse need support put publichealth risk law must enforce shock california barber juan desmarais care get impact reopening other smallbusinesse need support put publichealth risk law must enforce stay home think disappearing international challenges opportunities global human rights thurs april pm pst',\n",
       " 'memorial day want remember uncle wwll vet year life live nursinghome emphysema imagine disregard nursing home death unfollow next plague will dictate minority wing troll protester businessman expense life bend wing troll protester manipulate medium troll farm politician do winger job pull yourself bootstraps bring yourself sound protest lockdown istandwithpastorchris moron istandwithpastorchris bot fuel hashtag istandwithpastorchris bot fuel hashtag think government rule states constitution suggestion whyimnotvotingfortrump calexit',\n",
       " 'incompetence kill president history incompetence kill country reach deathtoll failure delay action handle coronavirus crisis criminal trump woman unemployment rate increase april month accord aarp public policy institute number woman unemployment rate increase april month accord aarp public policy institute number sign petition corporation block coronavirus supply protectnurses trump use defense production act hundred thousand time build drone missile armor immigration agent ppe gopgovernor doug burgum offer emotionalplea antimask crowd stop would say divide line would ask people try dialup empathy understanding trump own death christian lead pack fairwarne claim freedom infringe ask wear mask place protect other virus self brat',\n",
       " 'governor phil murphy warn firefighter police officers teachers could lay body recover passaic river underneath broadway bridge tell story ridgewood blog support indynews sposorships advertise guestpost affiliatemarketing northjersey nj news localnews bergen coronavirus reader say pickleball play doubles governor murphy ease restriction outdoor gathering time stand new jersey small businesses dr anthonyfauci lockdown could cause harm health outcome drug dealers use social medium influence buyers new jersey state trooper rescue kayaker strand sandy hook tell story ridgewood blog support indynews sposorships advertise guestpost affiliatemarketing northjersey nj news localnews bergen coronavirus',\n",
       " 'think go baby preference poope change diaper way republicans camera invasion privacy suppose wear mask pariah people will think criminal need wear mask go frequent business placessgr spy dimension would tweet obama gate ploy turn table shout manager understand worker daycaregiver child child stay home spouse quarantinediaries shout manager understand worker daycaregiver child child stay home spouse quarantinediaries trump claim take hydroxychloroquine seem thing thing hang keep fire inspectors general investigate administration seem thank call dress language allegation claim obama great',\n",
       " 'wear legging jammie day month end dress day week dress playingdressup spinach parmesan bake egg protein pack breakfast sustenance sale today breakfastideas eggsforbreakfast breakfast saleday bigsale openforbusiness rain cat voodoo vixen make day let face feel look get pockets voodoovixen retrostyle vintagestyle dressesforever come see today tomorrow can face time shop phone miss magnoliapearl magnoliapearlclothing ethyljeans stretchypants stretchydenim check add closet poshmark ethyl crop denim jean shopmycloset thursday go get friday mind cocktail can wear know band sing song obscureband onehitwonder fridayonmymind dress make june cleaver pearl require show age remember tv show refer check add closet poshmark poncho top umgee shopmycloset home office help lovemycat catlover catmom homeoffice stayhome staysafe workfromhome toomuchpaperwork catsofinstagram catlife northside cellar home office help lovemycat catlover catmom homeoffice stayhome staysafe workfromhome toomuchpaperwork catsofinstagram catlife northside cellar',\n",
       " 'ann mean racism islamophobia treason putin bitch issue reopen crowd gather rehearsal restart nuremberg rally draft dodger say see nurse run death soldier run bullet block entry city tell come allow block entry city tell come allow can go tweet person experience episode stop attack appear want year crap show decide steven miller sound solution decide steven miller sound solution',\n",
       " 'icymi montreal teacher collect donate computer student can afford cbc radio quebec hit testing target montreal prepare reopen store ease restriction cbc news strike desk quebec plan kid school fall cbc news quebec education school coronavirus montreal friday look window see green thing quebec need know friday cbc news coronavirus quebec montreal enjoy man perspective nature twitter time look read book thread françois legault approval rating fall earth quebec try reopen cbc news quebec legault coronavirus pandemie call grow asylum seeker work line allow stay canada',\n",
       " 'sunday easter easter bunny jesus day happy jesus day bitch get dick remember god fault teach wash wipe ass fault be have job life sacramento protest moron piece shit break protest bitch can feel water balloon piss light bag shit fire throw roof top constitution own tv can believe mfkrs can dream time dictate life wonder agenda guess pack train take consintaration camp gop treason month november see trump give republica package would see year wrap month lie propaganda write kid take note play book lie cheat steal defy trump vote trump blame people commit treason reopen king trump king stupids gop jeff bezos terrorist need tax asshole amazon no billionaire trillionaires scrooge mc duck party dollar debt party party death party debt party party putin party sociopath party reagan party death country trump badge honor wtf gop love people care republicans want kill want know plan gop coronavirus pandemic',\n",
       " 'should jeff bezos nobel prize keep us economy wsj bloomberg aoc businessinsider cnn cnbc should jeff bezos nobel prize keep us economy useconomy innovator marketwatch businessweek forbes businessinsider jeffbezos should jeff bezos nobel prize keep us economy bloomberg wsj cnn cnbc jeffbezos covidpandemic cause climate change hiatus nytimes nationalgeographic wapo guardian globalwarme stock market rubber band bloomberg cnn cnbc marketwatch nytimes covidpandemic cause climate change hiatus climate globalwarme people mask public adolf hitler would youcoronavirususa newyorkers nytimes wapo latimes bbc reuters guardian foxnews breitbart lockdown save life hundred thousand spare amount agony save economy bloomberg forbes wa po cnn msnbc cnbc wsj nytimes beware frenchfrance guardian national geographic bbc obama worship americans deal china russia']"
      ]
     },
     "execution_count": 6,
     "metadata": {},
     "output_type": "execute_result"
    }
   ],
   "source": [
    "# tweets in the timeline for each user are merged into a short document \n",
    "list_text_lemma"
   ]
  },
  {
   "cell_type": "markdown",
   "metadata": {},
   "source": [
    "### NMF to do topic modelling"
   ]
  },
  {
   "cell_type": "code",
   "execution_count": 29,
   "metadata": {},
   "outputs": [],
   "source": [
    "# ignore terms that appear in less than 2 documents and more than 95%\n",
    "# min -> all zero, max -> all one\n",
    "vectorizer = CountVectorizer(max_df=0.95, min_df=2, stop_words='english')\n",
    "list_timeline = vectorizer.fit_transform(list_text_lemma)\n",
    "terms = vectorizer.get_feature_names()"
   ]
  },
  {
   "cell_type": "code",
   "execution_count": 30,
   "metadata": {},
   "outputs": [],
   "source": [
    "import gensim\n",
    "import random\n",
    "from itertools import combinations"
   ]
  },
  {
   "cell_type": "code",
   "execution_count": 31,
   "metadata": {},
   "outputs": [],
   "source": [
    "tokens = [x.split() for x in list_text_lemma]"
   ]
  },
  {
   "cell_type": "code",
   "execution_count": 32,
   "metadata": {},
   "outputs": [],
   "source": [
    "# use gensim word2vec to embedding words using skipgram\n",
    "w2v_model = gensim.models.Word2Vec(tokens, size=500, min_count=2, sg=1)"
   ]
  },
  {
   "cell_type": "code",
   "execution_count": 33,
   "metadata": {},
   "outputs": [],
   "source": [
    "#w2v_model.wv.vocab"
   ]
  },
  {
   "cell_type": "markdown",
   "metadata": {},
   "source": [
    "#### to select the best k (the number of topics) by evaluating the topic coherence "
   ]
  },
  {
   "cell_type": "code",
   "execution_count": 34,
   "metadata": {},
   "outputs": [],
   "source": [
    "def create_nmf(k):\n",
    "    \n",
    "    model = NMF(n_components= k, random_state=42, init=\"nndsvd\")\n",
    "    doc_topics = model.fit_transform( list_timeline )\n",
    "    topic_terms = model.components_    \n",
    "\n",
    "    return topic_terms"
   ]
  },
  {
   "cell_type": "code",
   "execution_count": 35,
   "metadata": {},
   "outputs": [],
   "source": [
    "# term_rankings - a list of K topics with top n words for each topic model \n",
    "def calculate_coherence( w2v_model, term_rankings ):\n",
    "    \"\"\"compute overall coherence for each NMF model\"\"\"\n",
    "    \n",
    "    overall_coherence = 0.0\n",
    "    \n",
    "    for topic_index in range(len(term_rankings)): # number K\n",
    "        # check each pair of terms\n",
    "        pair_scores = []\n",
    "        \n",
    "        for pair in combinations( term_rankings[topic_index], 2 ): # similarity between top n words by topic by model\n",
    "            \n",
    "            pair_scores.append( w2v_model.wv.similarity(pair[0], pair[1]) )\n",
    "        \n",
    "        # get the mean for all pairs in this topic\n",
    "        \n",
    "        topic_score = sum(pair_scores) / len(pair_scores)\n",
    "        \n",
    "        overall_coherence += topic_score\n",
    "    \n",
    "    # get the mean score across all topics\n",
    "    return overall_coherence / len(term_rankings)"
   ]
  },
  {
   "cell_type": "code",
   "execution_count": 36,
   "metadata": {},
   "outputs": [],
   "source": [
    "def get_descriptor( all_terms, topic_terms, topic_index, top ):\n",
    "    \"\"\"get top_terms for each topic\"\"\"\n",
    "    \n",
    "    # reverse sort the values to sort the indices \n",
    "    ordered_terms_indices = np.argsort( topic_terms[topic_index,:] )[::-1]\n",
    "    \n",
    "    # now get the terms corresponding to the top-ranked indices\n",
    "    \n",
    "    top_terms = []\n",
    "    \n",
    "    for term_index in ordered_terms_indices[0:top]:\n",
    "        \n",
    "        top_terms.append( all_terms[term_index] )\n",
    "    \n",
    "    return top_terms #per topic per model "
   ]
  },
  {
   "cell_type": "code",
   "execution_count": 38,
   "metadata": {},
   "outputs": [
    {
     "name": "stdout",
     "output_type": "stream",
     "text": [
      "K=02: Coherence=0.1744\n",
      "K=03: Coherence=0.1704\n",
      "K=04: Coherence=0.1585\n",
      "K=05: Coherence=0.1648\n",
      "K=06: Coherence=0.1647\n",
      "K=07: Coherence=0.1557\n",
      "K=08: Coherence=0.1568\n",
      "K=09: Coherence=0.1575\n",
      "K=10: Coherence=0.1502\n",
      "K=11: Coherence=0.1488\n",
      "K=12: Coherence=0.1521\n",
      "K=13: Coherence=0.1528\n",
      "K=14: Coherence=0.1591\n"
     ]
    }
   ],
   "source": [
    "k_values = []\n",
    "coherences = []\n",
    "\n",
    "for k in range(2,len(list_text_lemma)):\n",
    "    \n",
    "    k_values.append( k ) # for plot\n",
    "    \n",
    "    topic_terms = create_nmf(k) # create models\n",
    "    # Get all of the topic descriptors - the term_rankings, based on top 6 terms\n",
    "    term_rankings = []\n",
    "    \n",
    "    for topic_index in range(k):\n",
    "        \n",
    "        term_rankings.append( get_descriptor( terms, topic_terms, topic_index, 6 ) )\n",
    "    # Now calculate the coherence based on our Word2vec model \n",
    "    \n",
    "    overall_coherence_doc = calculate_coherence( w2v_model, term_rankings ) \n",
    "    # placeholders for digits and floats\n",
    "    print(\"K=%02d: Coherence=%.4f\" % ( k, overall_coherence_doc ))\n",
    "    \n",
    "    coherences.append(overall_coherence_doc) # for plot"
   ]
  },
  {
   "cell_type": "code",
   "execution_count": 186,
   "metadata": {},
   "outputs": [
    {
     "data": {
      "image/png": "[encoded data removed]",
      "text/plain": [
       "<Figure size 936x504 with 1 Axes>"
      ]
     },
     "metadata": {},
     "output_type": "display_data"
    }
   ],
   "source": [
    "fig = plt.figure(figsize=(13,7))\n",
    "# create the line plot\n",
    "ax = plt.plot( k_values, coherences )\n",
    "plt.xticks(k_values)\n",
    "plt.xlabel(\"Number of Topics\")\n",
    "plt.ylabel(\"Mean Coherence\")\n",
    "# add the points\n",
    "plt.scatter( k_values, coherences, s=120)\n",
    "# find and annotate the maximum point on the plot\n",
    "ymax = max(coherences)\n",
    "xpos = coherences.index(ymax)\n",
    "best_k = k_values[xpos]\n",
    "plt.annotate( \"k=%d\" % best_k, xy=(best_k, ymax), xytext=(best_k, ymax), textcoords=\"offset points\", fontsize=16)\n",
    "plt.show()"
   ]
  },
  {
   "cell_type": "markdown",
   "metadata": {},
   "source": [
    "### use the best k value to do topic modelling"
   ]
  },
  {
   "cell_type": "code",
   "execution_count": 187,
   "metadata": {},
   "outputs": [],
   "source": [
    "nmf_model = NMF(n_components= best_k, random_state=42, init=\"nndsvd\")"
   ]
  },
  {
   "cell_type": "code",
   "execution_count": 188,
   "metadata": {},
   "outputs": [
    {
     "data": {
      "text/plain": [
       "NMF(init='nndsvd', n_components=4, random_state=42)"
      ]
     },
     "execution_count": 188,
     "metadata": {},
     "output_type": "execute_result"
    }
   ],
   "source": [
    "nmf_model.fit(list_text_lemma)"
   ]
  },
  {
   "cell_type": "code",
   "execution_count": 189,
   "metadata": {},
   "outputs": [
    {
     "name": "stdout",
     "output_type": "stream",
     "text": [
      "THE TOP 6 WORDS FOR TOPIC #0\n",
      "['day', 'thing', 'know', 'say', 'wear', 'mask']\n",
      "\n",
      "\n",
      "THE TOP 6 WORDS FOR TOPIC #1\n",
      "['daily', 'watch', 'reach', 'help', 'tweet', 'thank']\n",
      "\n",
      "\n",
      "THE TOP 6 WORDS FOR TOPIC #2\n",
      "['ask', 'government', 'teacher', 'plan', 'reopen', 'school']\n",
      "\n",
      "\n",
      "THE TOP 6 WORDS FOR TOPIC #3\n",
      "['death', 'people', 'day', 'coronavirus', 'month', 'trump']\n",
      "\n",
      "\n"
     ]
    }
   ],
   "source": [
    "for index,topic in enumerate(nmf_model.components_):\n",
    "    print(f'THE TOP 6 WORDS FOR TOPIC #{index}')\n",
    "    print([vectorizer.get_feature_names()[i] for i in topic.argsort()[-6:]])\n",
    "    print('\\n')"
   ]
  },
  {
   "cell_type": "markdown",
   "metadata": {},
   "source": [
    "### Attaching discovered topic labels to each user's timeline"
   ]
  },
  {
   "cell_type": "code",
   "execution_count": 190,
   "metadata": {},
   "outputs": [],
   "source": [
    "topic_results = nmf_model.transform(list_text_lemma)"
   ]
  },
  {
   "cell_type": "code",
   "execution_count": 191,
   "metadata": {},
   "outputs": [],
   "source": [
    "match_results = pd.DataFrame(data={'username': matched_name})"
   ]
  },
  {
   "cell_type": "code",
   "execution_count": 192,
   "metadata": {},
   "outputs": [],
   "source": [
    "match_results['name'] = tweets_df[tweets_df.index.isin(matched_idx)].user_screen_name.tolist()"
   ]
  },
  {
   "cell_type": "code",
   "execution_count": 193,
   "metadata": {},
   "outputs": [],
   "source": [
    "match_results['profile_image_url'] =  tweets_df[tweets_df.index.isin(matched_idx)].user_profile_image.tolist()"
   ]
  },
  {
   "cell_type": "code",
   "execution_count": 194,
   "metadata": {},
   "outputs": [],
   "source": [
    "match_results['#reopen'] =  tweets_df[tweets_df.index.isin(matched_idx)].full_text.tolist()"
   ]
  },
  {
   "cell_type": "code",
   "execution_count": 195,
   "metadata": {},
   "outputs": [],
   "source": [
    "match_results['sentiment_score'] = [sid.polarity_scores(x)['compound'] for x in match_results['#reopen']]"
   ]
  },
  {
   "cell_type": "code",
   "execution_count": 196,
   "metadata": {},
   "outputs": [],
   "source": [
    "match_results['diff_sentiment_score'] =  tweets_df[tweets_df.index.isin(matched_idx)].diff_sentiment_score.tolist()"
   ]
  },
  {
   "cell_type": "code",
   "execution_count": 197,
   "metadata": {},
   "outputs": [],
   "source": [
    "match_results['topic'] = topic_results.argmax(axis=1)"
   ]
  },
  {
   "cell_type": "code",
   "execution_count": 198,
   "metadata": {},
   "outputs": [],
   "source": [
    "topic_term = dict()\n",
    "\n",
    "for index,term in enumerate(nmf_model.components_):\n",
    "    topic_term.update({f'{index}' : [vectorizer.get_feature_names()[i] for i in term.argsort()[-6:]]})\n"
   ]
  },
  {
   "cell_type": "code",
   "execution_count": 199,
   "metadata": {},
   "outputs": [],
   "source": [
    "match_results['key_words'] = [topic_term[f'{x}'] for x in match_results.topic]"
   ]
  },
  {
   "cell_type": "code",
   "execution_count": 200,
   "metadata": {},
   "outputs": [],
   "source": [
    "match_results = match_results.sort_values(by=['diff_sentiment_score'])"
   ]
  },
  {
   "cell_type": "code",
   "execution_count": 201,
   "metadata": {},
   "outputs": [
    {
     "data": {
      "text/html": [
       "<div>\n",
       "<style scoped>\n",
       "    .dataframe tbody tr th:only-of-type {\n",
       "        vertical-align: middle;\n",
       "    }\n",
       "\n",
       "    .dataframe tbody tr th {\n",
       "        vertical-align: top;\n",
       "    }\n",
       "\n",
       "    .dataframe thead th {\n",
       "        text-align: right;\n",
       "    }\n",
       "</style>\n",
       "<table border=\"1\" class=\"dataframe\">\n",
       "  <thead>\n",
       "    <tr style=\"text-align: right;\">\n",
       "      <th></th>\n",
       "      <th>username</th>\n",
       "      <th>name</th>\n",
       "      <th>profile_image_url</th>\n",
       "      <th>#reopen</th>\n",
       "      <th>sentiment_score</th>\n",
       "      <th>diff_sentiment_score</th>\n",
       "      <th>topic</th>\n",
       "      <th>key_words</th>\n",
       "    </tr>\n",
       "  </thead>\n",
       "  <tbody>\n",
       "    <tr>\n",
       "      <th>3</th>\n",
       "      <td>J04nn6F</td>\n",
       "      <td>J04nn6F</td>\n",
       "      <td>https://pbs.twimg.com/profile_images/121357328...</td>\n",
       "      <td>It is not acceptable to find out the governmen...</td>\n",
       "      <td>-0.3080</td>\n",
       "      <td>0.0009</td>\n",
       "      <td>2</td>\n",
       "      <td>[ask, government, teacher, plan, reopen, school]</td>\n",
       "    </tr>\n",
       "    <tr>\n",
       "      <th>1</th>\n",
       "      <td>cruisetravelby1</td>\n",
       "      <td>cruisetravelby1</td>\n",
       "      <td>https://pbs.twimg.com/profile_images/125744610...</td>\n",
       "      <td>@sleepyjoe2 @mkhammer During this entire pande...</td>\n",
       "      <td>-0.3067</td>\n",
       "      <td>0.0022</td>\n",
       "      <td>0</td>\n",
       "      <td>[day, thing, know, say, wear, mask]</td>\n",
       "    </tr>\n",
       "    <tr>\n",
       "      <th>5</th>\n",
       "      <td>karimabennoune</td>\n",
       "      <td>karimabennoune</td>\n",
       "      <td>https://pbs.twimg.com/profile_images/866791055...</td>\n",
       "      <td>As #States &amp;amp;businesses #reopen despite ins...</td>\n",
       "      <td>-0.3125</td>\n",
       "      <td>0.0036</td>\n",
       "      <td>3</td>\n",
       "      <td>[death, people, day, coronavirus, month, trump]</td>\n",
       "    </tr>\n",
       "    <tr>\n",
       "      <th>9</th>\n",
       "      <td>xiphodaimon</td>\n",
       "      <td>xiphodaimon</td>\n",
       "      <td>https://pbs.twimg.com/profile_images/125314942...</td>\n",
       "      <td>Erm... That seems extreme.\\n\\nWhy are T* and t...</td>\n",
       "      <td>-0.3052</td>\n",
       "      <td>0.0037</td>\n",
       "      <td>0</td>\n",
       "      <td>[day, thing, know, say, wear, mask]</td>\n",
       "    </tr>\n",
       "    <tr>\n",
       "      <th>10</th>\n",
       "      <td>CellarNorthside</td>\n",
       "      <td>CellarNorthside</td>\n",
       "      <td>https://pbs.twimg.com/profile_images/980983813...</td>\n",
       "      <td>Working hard organizing for our re-opening sal...</td>\n",
       "      <td>-0.3129</td>\n",
       "      <td>0.0040</td>\n",
       "      <td>3</td>\n",
       "      <td>[death, people, day, coronavirus, month, trump]</td>\n",
       "    </tr>\n",
       "    <tr>\n",
       "      <th>13</th>\n",
       "      <td>sacraficial</td>\n",
       "      <td>sacraficial</td>\n",
       "      <td>https://pbs.twimg.com/profile_images/899069544...</td>\n",
       "      <td>Trump is going to kill you so he can have a ra...</td>\n",
       "      <td>-0.3018</td>\n",
       "      <td>0.0071</td>\n",
       "      <td>3</td>\n",
       "      <td>[death, people, day, coronavirus, month, trump]</td>\n",
       "    </tr>\n",
       "    <tr>\n",
       "      <th>6</th>\n",
       "      <td>msilcommand</td>\n",
       "      <td>msilcommand</td>\n",
       "      <td>https://pbs.twimg.com/profile_images/110920714...</td>\n",
       "      <td>@Rip_Narfer RE: the Republican #reopen movemen...</td>\n",
       "      <td>-0.3164</td>\n",
       "      <td>0.0075</td>\n",
       "      <td>3</td>\n",
       "      <td>[death, people, day, coronavirus, month, trump]</td>\n",
       "    </tr>\n",
       "    <tr>\n",
       "      <th>12</th>\n",
       "      <td>Snellk</td>\n",
       "      <td>Snellk</td>\n",
       "      <td>https://pbs.twimg.com/profile_images/102049493...</td>\n",
       "      <td>Why Premier Francois Legault's plan to reopen ...</td>\n",
       "      <td>-0.3167</td>\n",
       "      <td>0.0078</td>\n",
       "      <td>2</td>\n",
       "      <td>[ask, government, teacher, plan, reopen, school]</td>\n",
       "    </tr>\n",
       "    <tr>\n",
       "      <th>0</th>\n",
       "      <td>AvrittFavorites</td>\n",
       "      <td>AvrittFavorites</td>\n",
       "      <td>https://pbs.twimg.com/profile_images/121549052...</td>\n",
       "      <td>#ShanghaiDisneyland to #reopen amid Disney's $...</td>\n",
       "      <td>-0.3182</td>\n",
       "      <td>0.0093</td>\n",
       "      <td>1</td>\n",
       "      <td>[daily, watch, reach, help, tweet, thank]</td>\n",
       "    </tr>\n",
       "    <tr>\n",
       "      <th>2</th>\n",
       "      <td>VitalAnon</td>\n",
       "      <td>VitalAnon</td>\n",
       "      <td>https://pbs.twimg.com/profile_images/125543953...</td>\n",
       "      <td>https://t.co/19hqlbqinZ\\nAmerican #Shopping Ma...</td>\n",
       "      <td>-0.3182</td>\n",
       "      <td>0.0093</td>\n",
       "      <td>3</td>\n",
       "      <td>[death, people, day, coronavirus, month, trump]</td>\n",
       "    </tr>\n",
       "    <tr>\n",
       "      <th>4</th>\n",
       "      <td>SMLabTO</td>\n",
       "      <td>SMLabTO</td>\n",
       "      <td>https://pbs.twimg.com/profile_images/639293371...</td>\n",
       "      <td>Decisions on #reopening should involve public ...</td>\n",
       "      <td>-0.3182</td>\n",
       "      <td>0.0093</td>\n",
       "      <td>3</td>\n",
       "      <td>[death, people, day, coronavirus, month, trump]</td>\n",
       "    </tr>\n",
       "    <tr>\n",
       "      <th>7</th>\n",
       "      <td>mclozano1111</td>\n",
       "      <td>mclozano1111</td>\n",
       "      <td>https://pbs.twimg.com/profile_images/123387830...</td>\n",
       "      <td>#TrumpAdministration #shelves #CDCguide to #re...</td>\n",
       "      <td>-0.3182</td>\n",
       "      <td>0.0093</td>\n",
       "      <td>3</td>\n",
       "      <td>[death, people, day, coronavirus, month, trump]</td>\n",
       "    </tr>\n",
       "    <tr>\n",
       "      <th>8</th>\n",
       "      <td>Ridgewoodblog</td>\n",
       "      <td>Ridgewoodblog</td>\n",
       "      <td>https://pbs.twimg.com/profile_images/299313915...</td>\n",
       "      <td>Governor Murphy’s Lack of Planning for #Reopen...</td>\n",
       "      <td>-0.3182</td>\n",
       "      <td>0.0093</td>\n",
       "      <td>3</td>\n",
       "      <td>[death, people, day, coronavirus, month, trump]</td>\n",
       "    </tr>\n",
       "    <tr>\n",
       "      <th>11</th>\n",
       "      <td>DanielBen_Del</td>\n",
       "      <td>DanielBen_Del</td>\n",
       "      <td>https://pbs.twimg.com/profile_images/525808427...</td>\n",
       "      <td>@PaulMcCartney Sir Paul, are you aware that th...</td>\n",
       "      <td>-0.3182</td>\n",
       "      <td>0.0093</td>\n",
       "      <td>3</td>\n",
       "      <td>[death, people, day, coronavirus, month, trump]</td>\n",
       "    </tr>\n",
       "    <tr>\n",
       "      <th>14</th>\n",
       "      <td>DrGem2015</td>\n",
       "      <td>DrGem2015</td>\n",
       "      <td>https://pbs.twimg.com/profile_images/378800000...</td>\n",
       "      <td>Is the coronavirus pandemic caused by a lack o...</td>\n",
       "      <td>-0.3182</td>\n",
       "      <td>0.0093</td>\n",
       "      <td>3</td>\n",
       "      <td>[death, people, day, coronavirus, month, trump]</td>\n",
       "    </tr>\n",
       "  </tbody>\n",
       "</table>\n",
       "</div>"
      ],
      "text/plain": [
       "           username             name  \\\n",
       "3           J04nn6F          J04nn6F   \n",
       "1   cruisetravelby1  cruisetravelby1   \n",
       "5    karimabennoune   karimabennoune   \n",
       "9       xiphodaimon      xiphodaimon   \n",
       "10  CellarNorthside  CellarNorthside   \n",
       "13      sacraficial      sacraficial   \n",
       "6       msilcommand      msilcommand   \n",
       "12           Snellk           Snellk   \n",
       "0   AvrittFavorites  AvrittFavorites   \n",
       "2         VitalAnon        VitalAnon   \n",
       "4           SMLabTO          SMLabTO   \n",
       "7      mclozano1111     mclozano1111   \n",
       "8     Ridgewoodblog    Ridgewoodblog   \n",
       "11    DanielBen_Del    DanielBen_Del   \n",
       "14        DrGem2015        DrGem2015   \n",
       "\n",
       "                                    profile_image_url  \\\n",
       "3   https://pbs.twimg.com/profile_images/121357328...   \n",
       "1   https://pbs.twimg.com/profile_images/125744610...   \n",
       "5   https://pbs.twimg.com/profile_images/866791055...   \n",
       "9   https://pbs.twimg.com/profile_images/125314942...   \n",
       "10  https://pbs.twimg.com/profile_images/980983813...   \n",
       "13  https://pbs.twimg.com/profile_images/899069544...   \n",
       "6   https://pbs.twimg.com/profile_images/110920714...   \n",
       "12  https://pbs.twimg.com/profile_images/102049493...   \n",
       "0   https://pbs.twimg.com/profile_images/121549052...   \n",
       "2   https://pbs.twimg.com/profile_images/125543953...   \n",
       "4   https://pbs.twimg.com/profile_images/639293371...   \n",
       "7   https://pbs.twimg.com/profile_images/123387830...   \n",
       "8   https://pbs.twimg.com/profile_images/299313915...   \n",
       "11  https://pbs.twimg.com/profile_images/525808427...   \n",
       "14  https://pbs.twimg.com/profile_images/378800000...   \n",
       "\n",
       "                                              #reopen  sentiment_score  \\\n",
       "3   It is not acceptable to find out the governmen...          -0.3080   \n",
       "1   @sleepyjoe2 @mkhammer During this entire pande...          -0.3067   \n",
       "5   As #States &amp;businesses #reopen despite ins...          -0.3125   \n",
       "9   Erm... That seems extreme.\\n\\nWhy are T* and t...          -0.3052   \n",
       "10  Working hard organizing for our re-opening sal...          -0.3129   \n",
       "13  Trump is going to kill you so he can have a ra...          -0.3018   \n",
       "6   @Rip_Narfer RE: the Republican #reopen movemen...          -0.3164   \n",
       "12  Why Premier Francois Legault's plan to reopen ...          -0.3167   \n",
       "0   #ShanghaiDisneyland to #reopen amid Disney's $...          -0.3182   \n",
       "2   https://t.co/19hqlbqinZ\\nAmerican #Shopping Ma...          -0.3182   \n",
       "4   Decisions on #reopening should involve public ...          -0.3182   \n",
       "7   #TrumpAdministration #shelves #CDCguide to #re...          -0.3182   \n",
       "8   Governor Murphy’s Lack of Planning for #Reopen...          -0.3182   \n",
       "11  @PaulMcCartney Sir Paul, are you aware that th...          -0.3182   \n",
       "14  Is the coronavirus pandemic caused by a lack o...          -0.3182   \n",
       "\n",
       "    diff_sentiment_score  topic  \\\n",
       "3                 0.0009      2   \n",
       "1                 0.0022      0   \n",
       "5                 0.0036      3   \n",
       "9                 0.0037      0   \n",
       "10                0.0040      3   \n",
       "13                0.0071      3   \n",
       "6                 0.0075      3   \n",
       "12                0.0078      2   \n",
       "0                 0.0093      1   \n",
       "2                 0.0093      3   \n",
       "4                 0.0093      3   \n",
       "7                 0.0093      3   \n",
       "8                 0.0093      3   \n",
       "11                0.0093      3   \n",
       "14                0.0093      3   \n",
       "\n",
       "                                           key_words  \n",
       "3   [ask, government, teacher, plan, reopen, school]  \n",
       "1                [day, thing, know, say, wear, mask]  \n",
       "5    [death, people, day, coronavirus, month, trump]  \n",
       "9                [day, thing, know, say, wear, mask]  \n",
       "10   [death, people, day, coronavirus, month, trump]  \n",
       "13   [death, people, day, coronavirus, month, trump]  \n",
       "6    [death, people, day, coronavirus, month, trump]  \n",
       "12  [ask, government, teacher, plan, reopen, school]  \n",
       "0          [daily, watch, reach, help, tweet, thank]  \n",
       "2    [death, people, day, coronavirus, month, trump]  \n",
       "4    [death, people, day, coronavirus, month, trump]  \n",
       "7    [death, people, day, coronavirus, month, trump]  \n",
       "8    [death, people, day, coronavirus, month, trump]  \n",
       "11   [death, people, day, coronavirus, month, trump]  \n",
       "14   [death, people, day, coronavirus, month, trump]  "
      ]
     },
     "execution_count": 201,
     "metadata": {},
     "output_type": "execute_result"
    }
   ],
   "source": [
    "# the top 15 users having the close sentiments on #reopen and their recent topics\n",
    "match_results"
   ]
  },
  {
   "cell_type": "code",
   "execution_count": 202,
   "metadata": {},
   "outputs": [],
   "source": [
    "import joblib"
   ]
  },
  {
   "cell_type": "code",
   "execution_count": 204,
   "metadata": {},
   "outputs": [
    {
     "data": {
      "text/plain": [
       "['flask_tweets.pkl']"
      ]
     },
     "execution_count": 204,
     "metadata": {},
     "output_type": "execute_result"
    }
   ],
   "source": [
    "# used for display in the flask app later\n",
    "joblib.dump(match_results.to_dict(orient='records'), 'flask_tweets.pkl') # change to dict"
   ]
  },
  {
   "cell_type": "code",
   "execution_count": null,
   "metadata": {},
   "outputs": [],
   "source": []
  }
 ],
 "metadata": {
  "kernelspec": {
   "display_name": "Python 3",
   "language": "python",
   "name": "python3"
  },
  "language_info": {
   "codemirror_mode": {
    "name": "ipython",
    "version": 3
   },
   "file_extension": ".py",
   "mimetype": "text/x-python",
   "name": "python",
   "nbconvert_exporter": "python",
   "pygments_lexer": "ipython3",
   "version": "3.6.10"
  }
 },
 "nbformat": 4,
 "nbformat_minor": 4
}
