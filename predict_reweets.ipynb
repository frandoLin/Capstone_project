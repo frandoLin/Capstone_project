{
 "cells": [
  {
   "cell_type": "code",
   "execution_count": 1,
   "metadata": {},
   "outputs": [],
   "source": [
    "import pandas as pd\n",
    "import numpy as np\n",
    "import matplotlib.pyplot as plt\n",
    "import seaborn as sns\n",
    "import html\n",
    "import re\n",
    "import glob\n",
    "from nltk.sentiment.vader import SentimentIntensityAnalyzer\n",
    "import spacy\n",
    "import nltk\n",
    "from nltk.corpus import stopwords\n",
    "#from nltk.tokenize import sent_tokenize\n",
    "\n",
    "sid = SentimentIntensityAnalyzer()\n",
    "nlp = spacy.load(\"en_core_web_lg\")"
   ]
  },
  {
   "cell_type": "code",
   "execution_count": 3,
   "metadata": {},
   "outputs": [],
   "source": [
    "path = r'E:/NSS/nss_data_science/Capstone/data/covid' \n",
    "all_tweets = glob.glob(path + \"/*.csv\")"
   ]
  },
  {
   "cell_type": "markdown",
   "metadata": {},
   "source": [
    "### merge data to get larger sample"
   ]
  },
  {
   "cell_type": "code",
   "execution_count": 4,
   "metadata": {},
   "outputs": [],
   "source": [
    "tweets = pd.concat([pd.read_csv(csv) for csv in glob.glob(path + \"/*.CSV\")], ignore_index=True)\n",
    "tweets = tweets[tweets.lang == 'en']\n",
    "tweets = tweets[['created_at', 'text','is_quote', 'favourites_count', 'retweet_count', \n",
    "                 'followers_count', 'friends_count', 'account_created_at', 'verified']]"
   ]
  },
  {
   "cell_type": "code",
   "execution_count": 30,
   "metadata": {},
   "outputs": [],
   "source": [
    "#tweets.to_csv('tweets_421_430.csv', index=False)"
   ]
  },
  {
   "cell_type": "code",
   "execution_count": 3,
   "metadata": {},
   "outputs": [],
   "source": [
    "tweets =  pd.read_csv('tweets_421_430.csv')"
   ]
  },
  {
   "cell_type": "code",
   "execution_count": 4,
   "metadata": {},
   "outputs": [],
   "source": [
    "def clean(text):    \n",
    "\n",
    "    text = html.unescape(text.lower())    \n",
    "    text = re.sub(r'\\n|#', '', text)\n",
    "    text = re.sub(r'https:\\S+', '', text)\n",
    "    text = re.sub(r'@\\w+', '', text)\n",
    "    text = \" \".join([\" \".join(re.findall(r'[A-Z][a-z]+',x)) \\\n",
    "                     if re.match(r'(?:[A-Z][a-z]+){2,}',x) else x for x in text.split()])\n",
    "\n",
    "    return text"
   ]
  },
  {
   "cell_type": "markdown",
   "metadata": {},
   "source": [
    "### because the distribution for retweet_count is extremely skewed, do a classification problem"
   ]
  },
  {
   "cell_type": "code",
   "execution_count": 5,
   "metadata": {},
   "outputs": [],
   "source": [
    "retweet = tweets[tweets.retweet_count > 0].reset_index(drop=True)"
   ]
  },
  {
   "cell_type": "code",
   "execution_count": 6,
   "metadata": {},
   "outputs": [
    {
     "data": {
      "text/plain": [
       "count    690974.000000\n",
       "mean          8.925517\n",
       "std          85.487573\n",
       "min           1.000000\n",
       "25%           1.000000\n",
       "50%           2.000000\n",
       "75%           4.000000\n",
       "max       18168.000000\n",
       "Name: retweet_count, dtype: float64"
      ]
     },
     "execution_count": 6,
     "metadata": {},
     "output_type": "execute_result"
    }
   ],
   "source": [
    "retweet.retweet_count.describe()"
   ]
  },
  {
   "cell_type": "code",
   "execution_count": 7,
   "metadata": {},
   "outputs": [],
   "source": [
    "ret = tweets[['text','retweet_count']]"
   ]
  },
  {
   "cell_type": "markdown",
   "metadata": {},
   "source": [
    "### make sure the target classes are balanced when sampling"
   ]
  },
  {
   "cell_type": "code",
   "execution_count": 8,
   "metadata": {},
   "outputs": [],
   "source": [
    "sample = pd.concat([ret[ret.retweet_count == 0].sample(n=10000, random_state = 42), \n",
    "                    ret[ret.retweet_count > 0].sample(n=10000, random_state = 42)])"
   ]
  },
  {
   "cell_type": "code",
   "execution_count": 9,
   "metadata": {},
   "outputs": [],
   "source": [
    "sample['is_retweeted'] = [1 if x > 0 else 0 for x in sample.retweet_count]"
   ]
  },
  {
   "cell_type": "code",
   "execution_count": 10,
   "metadata": {},
   "outputs": [],
   "source": [
    "#shuffle the data to make sure the balanced classes in both train and test set\n",
    "sample = sample.sample(frac=1).reset_index(drop=True)"
   ]
  },
  {
   "cell_type": "code",
   "execution_count": 11,
   "metadata": {},
   "outputs": [],
   "source": [
    "sample['text'] = [clean(text) for text in sample.text]"
   ]
  },
  {
   "cell_type": "code",
   "execution_count": 12,
   "metadata": {},
   "outputs": [
    {
     "data": {
      "text/plain": [
       "(20000, 3)"
      ]
     },
     "execution_count": 12,
     "metadata": {},
     "output_type": "execute_result"
    }
   ],
   "source": [
    "sample.shape"
   ]
  },
  {
   "cell_type": "code",
   "execution_count": 13,
   "metadata": {},
   "outputs": [],
   "source": [
    "stopword = stopwords.words('english')"
   ]
  },
  {
   "cell_type": "code",
   "execution_count": 14,
   "metadata": {},
   "outputs": [],
   "source": [
    "def remove_stopword(data):   \n",
    "        \n",
    "    tokens_list = []\n",
    "\n",
    "    for token in data: \n",
    "        #can't -> [can, t]\n",
    "        if len(token) > 1 and token not in stopword:\n",
    "            tokens_list.append(token)\n",
    "    return tokens_list"
   ]
  },
  {
   "cell_type": "code",
   "execution_count": 15,
   "metadata": {},
   "outputs": [
    {
     "data": {
      "text/html": [
       "<div>\n",
       "<style scoped>\n",
       "    .dataframe tbody tr th:only-of-type {\n",
       "        vertical-align: middle;\n",
       "    }\n",
       "\n",
       "    .dataframe tbody tr th {\n",
       "        vertical-align: top;\n",
       "    }\n",
       "\n",
       "    .dataframe thead th {\n",
       "        text-align: right;\n",
       "    }\n",
       "</style>\n",
       "<table border=\"1\" class=\"dataframe\">\n",
       "  <thead>\n",
       "    <tr style=\"text-align: right;\">\n",
       "      <th></th>\n",
       "      <th>text</th>\n",
       "      <th>retweet_count</th>\n",
       "      <th>is_retweeted</th>\n",
       "      <th>tokens</th>\n",
       "    </tr>\n",
       "  </thead>\n",
       "  <tbody>\n",
       "    <tr>\n",
       "      <th>0</th>\n",
       "      <td>that feeling when your baby falls back asleep ...</td>\n",
       "      <td>0</td>\n",
       "      <td>0</td>\n",
       "      <td>[feeling, baby, falls, back, asleep, nap, like...</td>\n",
       "    </tr>\n",
       "    <tr>\n",
       "      <th>1</th>\n",
       "      <td>day 34 of 84 shielding, but working. bit of ti...</td>\n",
       "      <td>0</td>\n",
       "      <td>0</td>\n",
       "      <td>[day, shielding, working, bit, tik, tok, satur...</td>\n",
       "    </tr>\n",
       "    <tr>\n",
       "      <th>2</th>\n",
       "      <td>\"as we reactivate our economy, we need to bet ...</td>\n",
       "      <td>4</td>\n",
       "      <td>1</td>\n",
       "      <td>[reactivate, economy, need, bet, employment, o...</td>\n",
       "    </tr>\n",
       "    <tr>\n",
       "      <th>3</th>\n",
       "      <td>please support this frontlineheroes organizati...</td>\n",
       "      <td>0</td>\n",
       "      <td>0</td>\n",
       "      <td>[please, support, frontlineheroes, organizatio...</td>\n",
       "    </tr>\n",
       "    <tr>\n",
       "      <th>4</th>\n",
       "      <td>i think bill belichick is social distancing th...</td>\n",
       "      <td>0</td>\n",
       "      <td>0</td>\n",
       "      <td>[think, bill, belichick, social, distancing, p...</td>\n",
       "    </tr>\n",
       "  </tbody>\n",
       "</table>\n",
       "</div>"
      ],
      "text/plain": [
       "                                                text  retweet_count  \\\n",
       "0  that feeling when your baby falls back asleep ...              0   \n",
       "1  day 34 of 84 shielding, but working. bit of ti...              0   \n",
       "2  \"as we reactivate our economy, we need to bet ...              4   \n",
       "3  please support this frontlineheroes organizati...              0   \n",
       "4  i think bill belichick is social distancing th...              0   \n",
       "\n",
       "   is_retweeted                                             tokens  \n",
       "0             0  [feeling, baby, falls, back, asleep, nap, like...  \n",
       "1             0  [day, shielding, working, bit, tik, tok, satur...  \n",
       "2             1  [reactivate, economy, need, bet, employment, o...  \n",
       "3             0  [please, support, frontlineheroes, organizatio...  \n",
       "4             0  [think, bill, belichick, social, distancing, p...  "
      ]
     },
     "execution_count": 15,
     "metadata": {},
     "output_type": "execute_result"
    }
   ],
   "source": [
    "from nltk.tokenize import RegexpTokenizer\n",
    "\n",
    "tokenizer = RegexpTokenizer(r'[A-Za-z]+')\n",
    "\n",
    "\n",
    "sample[\"tokens\"] = [tokenizer.tokenize(x) for x in sample.text]\n",
    "sample[\"tokens\"] = [remove_stopword(tokens) for tokens in sample.tokens]\n",
    "sample.head()"
   ]
  },
  {
   "cell_type": "code",
   "execution_count": 16,
   "metadata": {},
   "outputs": [],
   "source": [
    "#[x for x in sample.text[0:] if x.isalpha()]"
   ]
  },
  {
   "cell_type": "code",
   "execution_count": 17,
   "metadata": {},
   "outputs": [],
   "source": [
    "import gensim"
   ]
  },
  {
   "cell_type": "code",
   "execution_count": 18,
   "metadata": {},
   "outputs": [],
   "source": [
    "# skip-gram\n",
    "w2v_model = gensim.models.Word2Vec(sample.tokens, size=300, min_count=2, sg=1) "
   ]
  },
  {
   "cell_type": "code",
   "execution_count": 19,
   "metadata": {},
   "outputs": [],
   "source": [
    "def w2v_mean(data):   \n",
    "        \n",
    "    tokens_list = []\n",
    "\n",
    "    for token in data: \n",
    "        if w2v_model.wv.__contains__(token):\n",
    "            tokens_list.append(token)\n",
    "            \n",
    "    if tokens_list == []:\n",
    "        return np.zeros(300)\n",
    "    else:\n",
    "        return w2v_model.wv.__getitem__(tokens_list).mean(axis=0)"
   ]
  },
  {
   "cell_type": "code",
   "execution_count": 20,
   "metadata": {},
   "outputs": [],
   "source": [
    "#sample.text[3657]"
   ]
  },
  {
   "cell_type": "code",
   "execution_count": 21,
   "metadata": {},
   "outputs": [],
   "source": [
    "#w2v_model.wv.__getitem__('daylockdown')"
   ]
  },
  {
   "cell_type": "code",
   "execution_count": 22,
   "metadata": {},
   "outputs": [],
   "source": [
    "sample['mean_word_embedding'] = [w2v_mean(x) for x in sample.tokens]"
   ]
  },
  {
   "cell_type": "code",
   "execution_count": 23,
   "metadata": {},
   "outputs": [
    {
     "data": {
      "text/plain": [
       "'that feeling when your baby falls back asleep during her nap... it\\'s like that introvert moment of happiness when plans get cancelled and you suddenly have a little extra free time. (with covid19 it\\'s not really \"free time\" but \"get all the work done time\").'"
      ]
     },
     "execution_count": 23,
     "metadata": {},
     "output_type": "execute_result"
    }
   ],
   "source": [
    "sample.text[0]"
   ]
  },
  {
   "cell_type": "code",
   "execution_count": 24,
   "metadata": {},
   "outputs": [
    {
     "data": {
      "text/plain": [
       "[('night', 1.0),\n",
       " ('later', 0.9614809155464172),\n",
       " ('june', 0.9597132802009583),\n",
       " ('weekend', 0.959582507610321),\n",
       " ('goes', 0.9570226073265076),\n",
       " ('anniversary', 0.9512537717819214),\n",
       " ('morning', 0.9499289393424988),\n",
       " ('went', 0.9426701068878174),\n",
       " ('girl', 0.9413707256317139),\n",
       " ('oflockdown', 0.9400438666343689)]"
      ]
     },
     "execution_count": 24,
     "metadata": {},
     "output_type": "execute_result"
    }
   ],
   "source": [
    "w2v_model.wv.similar_by_vector(w2v_model.wv.__getitem__('night'))"
   ]
  },
  {
   "cell_type": "code",
   "execution_count": 25,
   "metadata": {},
   "outputs": [
    {
     "data": {
      "text/plain": [
       "'the dac clerks office will receive all voters with a smile but she reminds us that the only way to guarantee a safe way to vote this year is to vote by absentee ballot. covid19'"
      ]
     },
     "execution_count": 25,
     "metadata": {},
     "output_type": "execute_result"
    }
   ],
   "source": [
    "sample.text[271]"
   ]
  },
  {
   "cell_type": "code",
   "execution_count": 36,
   "metadata": {},
   "outputs": [
    {
     "data": {
      "text/plain": [
       "[('straight', 0.9907780885696411),\n",
       " ('game', 0.9885056614875793),\n",
       " ('happens', 0.9881687760353088),\n",
       " ('anymore', 0.9877868890762329),\n",
       " ('boy', 0.9876819849014282),\n",
       " ('scared', 0.9864504337310791),\n",
       " ('ya', 0.9864210486412048),\n",
       " ('heard', 0.9863814115524292),\n",
       " ('tired', 0.9863635301589966),\n",
       " ('lol', 0.9857218265533447)]"
      ]
     },
     "execution_count": 36,
     "metadata": {},
     "output_type": "execute_result"
    }
   ],
   "source": [
    "# how close these words(skip-gram), meaning that they have similar surrounding text\n",
    "w2v_model.wv.similar_by_word('fuck')"
   ]
  },
  {
   "cell_type": "code",
   "execution_count": 31,
   "metadata": {},
   "outputs": [
    {
     "data": {
      "text/plain": [
       "array([], dtype=object)"
      ]
     },
     "execution_count": 31,
     "metadata": {},
     "output_type": "execute_result"
    }
   ],
   "source": [
    "sample.loc[sample.text.str.contains('fuck') & sample.text.str.contains(r'straight')].text.values"
   ]
  },
  {
   "cell_type": "code",
   "execution_count": 28,
   "metadata": {},
   "outputs": [
    {
     "data": {
      "text/plain": [
       "'essentialservices – today online and in paper we are featuring throughout the day a check in with our local essentialservices to see how they are managing during the coronavirus crisis.'"
      ]
     },
     "execution_count": 28,
     "metadata": {},
     "output_type": "execute_result"
    }
   ],
   "source": [
    "sample.text[15]"
   ]
  },
  {
   "cell_type": "code",
   "execution_count": 37,
   "metadata": {},
   "outputs": [],
   "source": [
    "from sklearn.model_selection import train_test_split, GridSearchCV\n",
    "from sklearn.decomposition import PCA, TruncatedSVD\n",
    "import matplotlib\n",
    "import matplotlib.patches as mpatches\n",
    "import itertools\n",
    "from sklearn.metrics import confusion_matrix\n",
    "from sklearn.linear_model import LogisticRegression\n",
    "from sklearn.metrics import accuracy_score, f1_score, precision_score, recall_score, classification_report"
   ]
  },
  {
   "cell_type": "code",
   "execution_count": 38,
   "metadata": {},
   "outputs": [],
   "source": [
    "X_train_word2vec, X_test_word2vec, y_train_word2vec, y_test_word2vec = train_test_split(sample.mean_word_embedding, \n",
    "                                                                                        sample.is_retweeted, \n",
    "                                                                                        test_size=0.2, random_state=40)"
   ]
  },
  {
   "cell_type": "code",
   "execution_count": 43,
   "metadata": {},
   "outputs": [],
   "source": [
    "def plot_LSA(data, labels, plot=True):\n",
    "        pca = PCA(n_components=2)\n",
    "        pca.fit(data)\n",
    "        scores = pca.transform(data)\n",
    "        color_mapper = {label:idx for idx,label in enumerate(set(labels))}\n",
    "        color_column = [color_mapper[label] for label in labels]\n",
    "        colors = ['orange','blue']\n",
    "        if plot:\n",
    "            plt.scatter(scores[:,0], scores[:,1], s=8, alpha=.8, c=labels, cmap=matplotlib.colors.ListedColormap(colors))\n",
    "            red_patch = mpatches.Patch(color='orange', label='Retweets')\n",
    "            green_patch = mpatches.Patch(color='blue', label='Non-retweets')\n",
    "            plt.legend(handles=[red_patch, green_patch], prop={'size': 30})"
   ]
  },
  {
   "cell_type": "markdown",
   "metadata": {},
   "source": [
    "### It seems like these two classes are almost overlapping, probably the word embeddings are not reasonable"
   ]
  },
  {
   "cell_type": "code",
   "execution_count": 44,
   "metadata": {},
   "outputs": [
    {
     "data": {
      "image/png": "[encoded data removed]",
      "text/plain": [
       "<Figure size 864x864 with 1 Axes>"
      ]
     },
     "metadata": {
      "needs_background": "light"
     },
     "output_type": "display_data"
    }
   ],
   "source": [
    "fig = plt.figure(figsize=(12, 12))          \n",
    "plot_LSA(list(sample.mean_word_embedding), sample.is_retweeted)\n",
    "plt.show()"
   ]
  },
  {
   "cell_type": "code",
   "execution_count": 45,
   "metadata": {},
   "outputs": [],
   "source": [
    "LR = LogisticRegression(C=30.0, solver='newton-cg', random_state=42)\n",
    "LR.fit(list(X_train_word2vec), y_train_word2vec)\n",
    "y_predicted_word2vec = LR.predict(list(X_test_word2vec))"
   ]
  },
  {
   "cell_type": "code",
   "execution_count": 48,
   "metadata": {},
   "outputs": [
    {
     "name": "stdout",
     "output_type": "stream",
     "text": [
      "              precision    recall  f1-score   support\n",
      "\n",
      "           0       0.62      0.61      0.61      8041\n",
      "           1       0.61      0.62      0.62      7959\n",
      "\n",
      "    accuracy                           0.61     16000\n",
      "   macro avg       0.61      0.61      0.61     16000\n",
      "weighted avg       0.61      0.61      0.61     16000\n",
      "\n"
     ]
    }
   ],
   "source": [
    "print(classification_report(y_train_word2vec, LR.predict(list(X_train_word2vec))))"
   ]
  },
  {
   "cell_type": "code",
   "execution_count": 49,
   "metadata": {},
   "outputs": [
    {
     "name": "stdout",
     "output_type": "stream",
     "text": [
      "              precision    recall  f1-score   support\n",
      "\n",
      "           0       0.59      0.59      0.59      1959\n",
      "           1       0.60      0.60      0.60      2041\n",
      "\n",
      "    accuracy                           0.60      4000\n",
      "   macro avg       0.60      0.60      0.60      4000\n",
      "weighted avg       0.60      0.60      0.60      4000\n",
      "\n"
     ]
    }
   ],
   "source": [
    "print(classification_report(y_test_word2vec, LR.predict(list(X_test_word2vec))))"
   ]
  },
  {
   "cell_type": "markdown",
   "metadata": {},
   "source": [
    "### non-text features"
   ]
  },
  {
   "cell_type": "code",
   "execution_count": 50,
   "metadata": {},
   "outputs": [],
   "source": [
    "ret_2 = tweets[['created_at','is_quote', 'text', 'favourites_count', 'retweet_count', \n",
    "                 'followers_count', 'friends_count', 'account_created_at', 'verified']]"
   ]
  },
  {
   "cell_type": "code",
   "execution_count": 51,
   "metadata": {},
   "outputs": [],
   "source": [
    "sample_2 = pd.concat([ret_2[ret_2.retweet_count == 0].sample(n = 100000, random_state = 42), \n",
    "                      ret_2[ret_2.retweet_count > 0].sample(n = 100000, random_state = 42)])"
   ]
  },
  {
   "cell_type": "code",
   "execution_count": 52,
   "metadata": {},
   "outputs": [
    {
     "data": {
      "text/plain": [
       "count    200000.000000\n",
       "mean          4.632825\n",
       "std          75.003053\n",
       "min           0.000000\n",
       "25%           0.000000\n",
       "50%           0.500000\n",
       "75%           2.000000\n",
       "max       18168.000000\n",
       "Name: retweet_count, dtype: float64"
      ]
     },
     "execution_count": 52,
     "metadata": {},
     "output_type": "execute_result"
    }
   ],
   "source": [
    "sample_2.retweet_count.describe()"
   ]
  },
  {
   "cell_type": "code",
   "execution_count": 53,
   "metadata": {},
   "outputs": [],
   "source": [
    "sample_2['length_text'] = [len(re.sub(r'\\W+', '', x)) for x in sample_2.text]"
   ]
  },
  {
   "cell_type": "code",
   "execution_count": 54,
   "metadata": {},
   "outputs": [],
   "source": [
    "sample_2['number_hashtag'] = [len(re.findall(r'#', x)) for x in sample_2.text] \n",
    "sample_2['number_at'] = [len(re.findall(r'@', x)) for x in sample_2.text] "
   ]
  },
  {
   "cell_type": "code",
   "execution_count": 55,
   "metadata": {},
   "outputs": [],
   "source": [
    "sample_2.created_at = pd.to_datetime(sample_2.created_at)\n",
    "sample_2.account_created_at = pd.to_datetime(sample_2.account_created_at)"
   ]
  },
  {
   "cell_type": "code",
   "execution_count": 56,
   "metadata": {},
   "outputs": [],
   "source": [
    "sample_2['created_weekday'] = sample_2.created_at.dt.weekday"
   ]
  },
  {
   "cell_type": "code",
   "execution_count": 57,
   "metadata": {},
   "outputs": [],
   "source": [
    "sample_2['created_hour'] = sample_2.created_at.dt.hour"
   ]
  },
  {
   "cell_type": "code",
   "execution_count": 58,
   "metadata": {},
   "outputs": [],
   "source": [
    "sample_2['time_delta'] = sample_2.created_at - sample_2.account_created_at\n",
    "sample_2.time_delta = sample_2.time_delta.dt.days"
   ]
  },
  {
   "cell_type": "code",
   "execution_count": 59,
   "metadata": {},
   "outputs": [],
   "source": [
    "#sample_2['sentiment_score'] = [sid.polarity_scores(x)['compound'] for x in sample_2.text]"
   ]
  },
  {
   "cell_type": "code",
   "execution_count": 60,
   "metadata": {},
   "outputs": [],
   "source": [
    "sample_2 = sample_2.drop(['created_at', 'text', 'account_created_at'], axis=1)"
   ]
  },
  {
   "cell_type": "code",
   "execution_count": 61,
   "metadata": {},
   "outputs": [],
   "source": [
    "sample_2.is_quote = [1 if x == True else 0 for x in sample_2.is_quote]"
   ]
  },
  {
   "cell_type": "code",
   "execution_count": 62,
   "metadata": {},
   "outputs": [],
   "source": [
    "sample_2.verified = [1 if x == True else 0 for x in sample_2.verified]"
   ]
  },
  {
   "cell_type": "code",
   "execution_count": 63,
   "metadata": {},
   "outputs": [],
   "source": [
    "sample_2.retweet_count = [1 if x > 0 else 0 for x in sample_2.retweet_count]"
   ]
  },
  {
   "cell_type": "code",
   "execution_count": 64,
   "metadata": {},
   "outputs": [],
   "source": [
    "sample_2[['created_weekday','created_hour']] = sample_2[['created_weekday','created_hour']].astype('str')"
   ]
  },
  {
   "cell_type": "code",
   "execution_count": 65,
   "metadata": {},
   "outputs": [],
   "source": [
    "sample_2 = pd.get_dummies(sample_2, drop_first=True)"
   ]
  },
  {
   "cell_type": "code",
   "execution_count": 66,
   "metadata": {},
   "outputs": [
    {
     "data": {
      "text/html": [
       "<div>\n",
       "<style scoped>\n",
       "    .dataframe tbody tr th:only-of-type {\n",
       "        vertical-align: middle;\n",
       "    }\n",
       "\n",
       "    .dataframe tbody tr th {\n",
       "        vertical-align: top;\n",
       "    }\n",
       "\n",
       "    .dataframe thead th {\n",
       "        text-align: right;\n",
       "    }\n",
       "</style>\n",
       "<table border=\"1\" class=\"dataframe\">\n",
       "  <thead>\n",
       "    <tr style=\"text-align: right;\">\n",
       "      <th></th>\n",
       "      <th>is_quote</th>\n",
       "      <th>favourites_count</th>\n",
       "      <th>retweet_count</th>\n",
       "      <th>followers_count</th>\n",
       "      <th>friends_count</th>\n",
       "      <th>verified</th>\n",
       "      <th>length_text</th>\n",
       "      <th>number_hashtag</th>\n",
       "      <th>number_at</th>\n",
       "      <th>time_delta</th>\n",
       "      <th>...</th>\n",
       "      <th>created_hour_21</th>\n",
       "      <th>created_hour_22</th>\n",
       "      <th>created_hour_23</th>\n",
       "      <th>created_hour_3</th>\n",
       "      <th>created_hour_4</th>\n",
       "      <th>created_hour_5</th>\n",
       "      <th>created_hour_6</th>\n",
       "      <th>created_hour_7</th>\n",
       "      <th>created_hour_8</th>\n",
       "      <th>created_hour_9</th>\n",
       "    </tr>\n",
       "  </thead>\n",
       "  <tbody>\n",
       "    <tr>\n",
       "      <th>1912635</th>\n",
       "      <td>0</td>\n",
       "      <td>905</td>\n",
       "      <td>0</td>\n",
       "      <td>865</td>\n",
       "      <td>864</td>\n",
       "      <td>0</td>\n",
       "      <td>94</td>\n",
       "      <td>2</td>\n",
       "      <td>0</td>\n",
       "      <td>4177</td>\n",
       "      <td>...</td>\n",
       "      <td>0</td>\n",
       "      <td>0</td>\n",
       "      <td>0</td>\n",
       "      <td>0</td>\n",
       "      <td>0</td>\n",
       "      <td>0</td>\n",
       "      <td>0</td>\n",
       "      <td>0</td>\n",
       "      <td>0</td>\n",
       "      <td>0</td>\n",
       "    </tr>\n",
       "    <tr>\n",
       "      <th>1843997</th>\n",
       "      <td>0</td>\n",
       "      <td>2</td>\n",
       "      <td>0</td>\n",
       "      <td>26336</td>\n",
       "      <td>25383</td>\n",
       "      <td>0</td>\n",
       "      <td>139</td>\n",
       "      <td>2</td>\n",
       "      <td>0</td>\n",
       "      <td>3577</td>\n",
       "      <td>...</td>\n",
       "      <td>0</td>\n",
       "      <td>0</td>\n",
       "      <td>0</td>\n",
       "      <td>0</td>\n",
       "      <td>0</td>\n",
       "      <td>0</td>\n",
       "      <td>0</td>\n",
       "      <td>0</td>\n",
       "      <td>0</td>\n",
       "      <td>0</td>\n",
       "    </tr>\n",
       "    <tr>\n",
       "      <th>1810746</th>\n",
       "      <td>0</td>\n",
       "      <td>24016</td>\n",
       "      <td>0</td>\n",
       "      <td>6973</td>\n",
       "      <td>2148</td>\n",
       "      <td>0</td>\n",
       "      <td>98</td>\n",
       "      <td>6</td>\n",
       "      <td>1</td>\n",
       "      <td>3150</td>\n",
       "      <td>...</td>\n",
       "      <td>0</td>\n",
       "      <td>0</td>\n",
       "      <td>0</td>\n",
       "      <td>0</td>\n",
       "      <td>0</td>\n",
       "      <td>0</td>\n",
       "      <td>0</td>\n",
       "      <td>0</td>\n",
       "      <td>0</td>\n",
       "      <td>0</td>\n",
       "    </tr>\n",
       "    <tr>\n",
       "      <th>752248</th>\n",
       "      <td>0</td>\n",
       "      <td>778</td>\n",
       "      <td>0</td>\n",
       "      <td>2903</td>\n",
       "      <td>4577</td>\n",
       "      <td>1</td>\n",
       "      <td>232</td>\n",
       "      <td>12</td>\n",
       "      <td>0</td>\n",
       "      <td>2870</td>\n",
       "      <td>...</td>\n",
       "      <td>0</td>\n",
       "      <td>0</td>\n",
       "      <td>0</td>\n",
       "      <td>0</td>\n",
       "      <td>0</td>\n",
       "      <td>0</td>\n",
       "      <td>0</td>\n",
       "      <td>0</td>\n",
       "      <td>1</td>\n",
       "      <td>0</td>\n",
       "    </tr>\n",
       "    <tr>\n",
       "      <th>642382</th>\n",
       "      <td>0</td>\n",
       "      <td>226</td>\n",
       "      <td>0</td>\n",
       "      <td>344</td>\n",
       "      <td>368</td>\n",
       "      <td>0</td>\n",
       "      <td>122</td>\n",
       "      <td>3</td>\n",
       "      <td>1</td>\n",
       "      <td>3353</td>\n",
       "      <td>...</td>\n",
       "      <td>0</td>\n",
       "      <td>0</td>\n",
       "      <td>0</td>\n",
       "      <td>0</td>\n",
       "      <td>0</td>\n",
       "      <td>0</td>\n",
       "      <td>0</td>\n",
       "      <td>0</td>\n",
       "      <td>0</td>\n",
       "      <td>0</td>\n",
       "    </tr>\n",
       "  </tbody>\n",
       "</table>\n",
       "<p>5 rows × 39 columns</p>\n",
       "</div>"
      ],
      "text/plain": [
       "         is_quote  favourites_count  retweet_count  followers_count  \\\n",
       "1912635         0               905              0              865   \n",
       "1843997         0                 2              0            26336   \n",
       "1810746         0             24016              0             6973   \n",
       "752248          0               778              0             2903   \n",
       "642382          0               226              0              344   \n",
       "\n",
       "         friends_count  verified  length_text  number_hashtag  number_at  \\\n",
       "1912635            864         0           94               2          0   \n",
       "1843997          25383         0          139               2          0   \n",
       "1810746           2148         0           98               6          1   \n",
       "752248            4577         1          232              12          0   \n",
       "642382             368         0          122               3          1   \n",
       "\n",
       "         time_delta  ...  created_hour_21  created_hour_22  created_hour_23  \\\n",
       "1912635        4177  ...                0                0                0   \n",
       "1843997        3577  ...                0                0                0   \n",
       "1810746        3150  ...                0                0                0   \n",
       "752248         2870  ...                0                0                0   \n",
       "642382         3353  ...                0                0                0   \n",
       "\n",
       "         created_hour_3  created_hour_4  created_hour_5  created_hour_6  \\\n",
       "1912635               0               0               0               0   \n",
       "1843997               0               0               0               0   \n",
       "1810746               0               0               0               0   \n",
       "752248                0               0               0               0   \n",
       "642382                0               0               0               0   \n",
       "\n",
       "         created_hour_7  created_hour_8  created_hour_9  \n",
       "1912635               0               0               0  \n",
       "1843997               0               0               0  \n",
       "1810746               0               0               0  \n",
       "752248                0               1               0  \n",
       "642382                0               0               0  \n",
       "\n",
       "[5 rows x 39 columns]"
      ]
     },
     "execution_count": 66,
     "metadata": {},
     "output_type": "execute_result"
    }
   ],
   "source": [
    "sample_2.head()"
   ]
  },
  {
   "cell_type": "code",
   "execution_count": 67,
   "metadata": {},
   "outputs": [],
   "source": [
    "from sklearn.ensemble import RandomForestClassifier"
   ]
  },
  {
   "cell_type": "code",
   "execution_count": 19,
   "metadata": {},
   "outputs": [],
   "source": [
    "X = sample_2.drop(['retweet_count'], axis=1)\n",
    "y = sample_2.retweet_count\n",
    "X_train, X_test, y_train, y_test = train_test_split(X, y, test_size=0.3, random_state = 42)"
   ]
  },
  {
   "cell_type": "code",
   "execution_count": 68,
   "metadata": {},
   "outputs": [],
   "source": [
    "#sample_2[['ratio_follower_friend','favourites_per_day', 'followers_per_day', 'friends_per_day']].describe()"
   ]
  },
  {
   "cell_type": "code",
   "execution_count": 69,
   "metadata": {},
   "outputs": [],
   "source": [
    "#sample_2[sample_2.favourites_per_day == np.inf][['favourites_count', 'time_delta', 'favourites_per_day']]"
   ]
  },
  {
   "cell_type": "markdown",
   "metadata": {},
   "source": [
    "### Use random forest"
   ]
  },
  {
   "cell_type": "code",
   "execution_count": 93,
   "metadata": {},
   "outputs": [
    {
     "data": {
      "text/plain": [
       "RandomForestClassifier(n_jobs=-1, random_state=42)"
      ]
     },
     "execution_count": 93,
     "metadata": {},
     "output_type": "execute_result"
    }
   ],
   "source": [
    "rf_model = RandomForestClassifier(n_jobs=-1, random_state = 42)\n",
    "rf_model.fit(X_train, y_train)"
   ]
  },
  {
   "cell_type": "markdown",
   "metadata": {},
   "source": [
    "### only twenty thousand samples "
   ]
  },
  {
   "cell_type": "code",
   "execution_count": 77,
   "metadata": {},
   "outputs": [
    {
     "name": "stdout",
     "output_type": "stream",
     "text": [
      "              precision    recall  f1-score   support\n",
      "\n",
      "           0       1.00      1.00      1.00      6983\n",
      "           1       1.00      1.00      1.00      7017\n",
      "\n",
      "    accuracy                           1.00     14000\n",
      "   macro avg       1.00      1.00      1.00     14000\n",
      "weighted avg       1.00      1.00      1.00     14000\n",
      "\n"
     ]
    }
   ],
   "source": [
    "print(classification_report(y_train, rf_model.predict(X_train)))"
   ]
  },
  {
   "cell_type": "code",
   "execution_count": 78,
   "metadata": {},
   "outputs": [
    {
     "name": "stdout",
     "output_type": "stream",
     "text": [
      "              precision    recall  f1-score   support\n",
      "\n",
      "           0       0.65      0.69      0.67      3017\n",
      "           1       0.67      0.63      0.65      2983\n",
      "\n",
      "    accuracy                           0.66      6000\n",
      "   macro avg       0.66      0.66      0.66      6000\n",
      "weighted avg       0.66      0.66      0.66      6000\n",
      "\n"
     ]
    }
   ],
   "source": [
    "print(classification_report(y_test, rf_model.predict(X_test)))"
   ]
  },
  {
   "cell_type": "markdown",
   "metadata": {},
   "source": [
    "### add more samples (200k)"
   ]
  },
  {
   "cell_type": "code",
   "execution_count": 67,
   "metadata": {},
   "outputs": [
    {
     "name": "stdout",
     "output_type": "stream",
     "text": [
      "              precision    recall  f1-score   support\n",
      "\n",
      "           0       0.98      0.99      0.99     70149\n",
      "           1       0.99      0.98      0.99     69851\n",
      "\n",
      "    accuracy                           0.99    140000\n",
      "   macro avg       0.99      0.99      0.99    140000\n",
      "weighted avg       0.99      0.99      0.99    140000\n",
      "\n"
     ]
    }
   ],
   "source": [
    "print(classification_report(y_train, rf_model.predict(X_train)))"
   ]
  },
  {
   "cell_type": "code",
   "execution_count": 68,
   "metadata": {},
   "outputs": [
    {
     "name": "stdout",
     "output_type": "stream",
     "text": [
      "              precision    recall  f1-score   support\n",
      "\n",
      "           0       0.66      0.72      0.69     29851\n",
      "           1       0.70      0.64      0.67     30149\n",
      "\n",
      "    accuracy                           0.68     60000\n",
      "   macro avg       0.68      0.68      0.68     60000\n",
      "weighted avg       0.68      0.68      0.68     60000\n",
      "\n"
     ]
    }
   ],
   "source": [
    "print(classification_report(y_test, rf_model.predict(X_test)))"
   ]
  },
  {
   "cell_type": "markdown",
   "metadata": {},
   "source": [
    "### hour, day"
   ]
  },
  {
   "cell_type": "code",
   "execution_count": 57,
   "metadata": {},
   "outputs": [
    {
     "name": "stdout",
     "output_type": "stream",
     "text": [
      "              precision    recall  f1-score   support\n",
      "\n",
      "           0       1.00      1.00      1.00     70149\n",
      "           1       1.00      1.00      1.00     69851\n",
      "\n",
      "    accuracy                           1.00    140000\n",
      "   macro avg       1.00      1.00      1.00    140000\n",
      "weighted avg       1.00      1.00      1.00    140000\n",
      "\n"
     ]
    }
   ],
   "source": [
    "print(classification_report(y_train, rf_model.predict(X_train)))"
   ]
  },
  {
   "cell_type": "code",
   "execution_count": 58,
   "metadata": {},
   "outputs": [
    {
     "name": "stdout",
     "output_type": "stream",
     "text": [
      "              precision    recall  f1-score   support\n",
      "\n",
      "           0       0.68      0.74      0.71     29851\n",
      "           1       0.72      0.65      0.68     30149\n",
      "\n",
      "    accuracy                           0.70     60000\n",
      "   macro avg       0.70      0.70      0.70     60000\n",
      "weighted avg       0.70      0.70      0.70     60000\n",
      "\n"
     ]
    }
   ],
   "source": [
    "print(classification_report(y_test, rf_model.predict(X_test)))"
   ]
  },
  {
   "cell_type": "markdown",
   "metadata": {},
   "source": [
    "### length of text, number of hashtag and mention "
   ]
  },
  {
   "cell_type": "code",
   "execution_count": 40,
   "metadata": {},
   "outputs": [
    {
     "name": "stdout",
     "output_type": "stream",
     "text": [
      "              precision    recall  f1-score   support\n",
      "\n",
      "           0       1.00      1.00      1.00     70149\n",
      "           1       1.00      1.00      1.00     69851\n",
      "\n",
      "    accuracy                           1.00    140000\n",
      "   macro avg       1.00      1.00      1.00    140000\n",
      "weighted avg       1.00      1.00      1.00    140000\n",
      "\n"
     ]
    }
   ],
   "source": [
    "print(classification_report(y_train, rf_model.predict(X_train)))"
   ]
  },
  {
   "cell_type": "code",
   "execution_count": 41,
   "metadata": {},
   "outputs": [
    {
     "name": "stdout",
     "output_type": "stream",
     "text": [
      "              precision    recall  f1-score   support\n",
      "\n",
      "           0       0.70      0.76      0.73     29851\n",
      "           1       0.74      0.68      0.71     30149\n",
      "\n",
      "    accuracy                           0.72     60000\n",
      "   macro avg       0.72      0.72      0.72     60000\n",
      "weighted avg       0.72      0.72      0.72     60000\n",
      "\n"
     ]
    }
   ],
   "source": [
    "print(classification_report(y_test, rf_model.predict(X_test)))"
   ]
  },
  {
   "cell_type": "markdown",
   "metadata": {},
   "source": [
    "### more features('ratio_follower_friend','favourites_per_day', 'followers_per_day', 'friends_per_day','follower_minus_friend')\n",
    "\n",
    "### the model did not get improved"
   ]
  },
  {
   "cell_type": "code",
   "execution_count": 49,
   "metadata": {},
   "outputs": [
    {
     "name": "stdout",
     "output_type": "stream",
     "text": [
      "              precision    recall  f1-score   support\n",
      "\n",
      "           0       1.00      1.00      1.00     70149\n",
      "           1       1.00      1.00      1.00     69851\n",
      "\n",
      "    accuracy                           1.00    140000\n",
      "   macro avg       1.00      1.00      1.00    140000\n",
      "weighted avg       1.00      1.00      1.00    140000\n",
      "\n"
     ]
    }
   ],
   "source": [
    "print(classification_report(y_train, rf_model.predict(X_train)))"
   ]
  },
  {
   "cell_type": "code",
   "execution_count": 50,
   "metadata": {},
   "outputs": [
    {
     "name": "stdout",
     "output_type": "stream",
     "text": [
      "              precision    recall  f1-score   support\n",
      "\n",
      "           0       0.70      0.76      0.73     29851\n",
      "           1       0.74      0.68      0.71     30149\n",
      "\n",
      "    accuracy                           0.72     60000\n",
      "   macro avg       0.72      0.72      0.72     60000\n",
      "weighted avg       0.72      0.72      0.72     60000\n",
      "\n"
     ]
    }
   ],
   "source": [
    "print(classification_report(y_test, rf_model.predict(X_test)))"
   ]
  },
  {
   "cell_type": "markdown",
   "metadata": {},
   "source": [
    "### add sentiment score\n",
    "\n",
    "### the model did not get improved"
   ]
  },
  {
   "cell_type": "code",
   "execution_count": 146,
   "metadata": {},
   "outputs": [
    {
     "name": "stderr",
     "output_type": "stream",
     "text": [
      "D:\\Anaconda3\\lib\\site-packages\\sklearn\\utils\\validation.py:510: UserWarning: pandas.DataFrame with sparse columns found.It will be converted to a dense numpy array.\n",
      "  \"pandas.DataFrame with sparse columns found.\"\n"
     ]
    },
    {
     "name": "stdout",
     "output_type": "stream",
     "text": [
      "              precision    recall  f1-score   support\n",
      "\n",
      "           0       1.00      1.00      1.00     70149\n",
      "           1       1.00      1.00      1.00     69851\n",
      "\n",
      "    accuracy                           1.00    140000\n",
      "   macro avg       1.00      1.00      1.00    140000\n",
      "weighted avg       1.00      1.00      1.00    140000\n",
      "\n"
     ]
    }
   ],
   "source": [
    "print(classification_report(y_train, rf_model.predict(X_train)))"
   ]
  },
  {
   "cell_type": "code",
   "execution_count": 147,
   "metadata": {},
   "outputs": [
    {
     "name": "stderr",
     "output_type": "stream",
     "text": [
      "D:\\Anaconda3\\lib\\site-packages\\sklearn\\utils\\validation.py:510: UserWarning: pandas.DataFrame with sparse columns found.It will be converted to a dense numpy array.\n",
      "  \"pandas.DataFrame with sparse columns found.\"\n"
     ]
    },
    {
     "name": "stdout",
     "output_type": "stream",
     "text": [
      "              precision    recall  f1-score   support\n",
      "\n",
      "           0       0.70      0.76      0.73     29851\n",
      "           1       0.74      0.67      0.71     30149\n",
      "\n",
      "    accuracy                           0.72     60000\n",
      "   macro avg       0.72      0.72      0.72     60000\n",
      "weighted avg       0.72      0.72      0.72     60000\n",
      "\n"
     ]
    }
   ],
   "source": [
    "print(classification_report(y_test, rf_model.predict(X_test)))"
   ]
  },
  {
   "cell_type": "markdown",
   "metadata": {},
   "source": [
    "### 500,000 samples (sligtly improved but overfitting)"
   ]
  },
  {
   "cell_type": "code",
   "execution_count": 94,
   "metadata": {},
   "outputs": [
    {
     "name": "stdout",
     "output_type": "stream",
     "text": [
      "              precision    recall  f1-score   support\n",
      "\n",
      "           0       1.00      1.00      1.00    350187\n",
      "           1       1.00      1.00      1.00    349813\n",
      "\n",
      "    accuracy                           1.00    700000\n",
      "   macro avg       1.00      1.00      1.00    700000\n",
      "weighted avg       1.00      1.00      1.00    700000\n",
      "\n"
     ]
    }
   ],
   "source": [
    "print(classification_report(y_train, rf_model.predict(X_train)))"
   ]
  },
  {
   "cell_type": "code",
   "execution_count": 95,
   "metadata": {},
   "outputs": [
    {
     "name": "stdout",
     "output_type": "stream",
     "text": [
      "              precision    recall  f1-score   support\n",
      "\n",
      "           0       0.71      0.77      0.74    149813\n",
      "           1       0.75      0.69      0.72    150187\n",
      "\n",
      "    accuracy                           0.73    300000\n",
      "   macro avg       0.73      0.73      0.73    300000\n",
      "weighted avg       0.73      0.73      0.73    300000\n",
      "\n"
     ]
    }
   ],
   "source": [
    "print(classification_report(y_test, rf_model.predict(X_test)))"
   ]
  },
  {
   "cell_type": "markdown",
   "metadata": {},
   "source": [
    "### GridSearch to tune the hyperprameter"
   ]
  },
  {
   "cell_type": "code",
   "execution_count": 140,
   "metadata": {},
   "outputs": [],
   "source": [
    "params_rf = {\n",
    "'n_estimators': [10, 20, 50, 100],\n",
    "'max_depth': [2, 4, 6, 8],\n",
    "'min_samples_leaf': [0.1, 0.2, 0.3],\n",
    "'max_features': [None,'log2']\n",
    "}\n",
    "# Instantiate 'grid_rf'\n",
    "grid_rf = GridSearchCV(estimator=rf_model,\n",
    "param_grid=params_rf,\n",
    "cv=5,\n",
    "scoring='f1',\n",
    "verbose=1,\n",
    "n_jobs=-1)"
   ]
  },
  {
   "cell_type": "code",
   "execution_count": 141,
   "metadata": {},
   "outputs": [
    {
     "name": "stdout",
     "output_type": "stream",
     "text": [
      "Fitting 5 folds for each of 96 candidates, totalling 480 fits\n"
     ]
    },
    {
     "name": "stderr",
     "output_type": "stream",
     "text": [
      "[Parallel(n_jobs=-1)]: Using backend LokyBackend with 8 concurrent workers.\n",
      "[Parallel(n_jobs=-1)]: Done  34 tasks      | elapsed:   54.0s\n",
      "[Parallel(n_jobs=-1)]: Done 184 tasks      | elapsed:  3.1min\n",
      "[Parallel(n_jobs=-1)]: Done 434 tasks      | elapsed:  7.0min\n",
      "[Parallel(n_jobs=-1)]: Done 480 out of 480 | elapsed:  7.4min finished\n",
      "D:\\Anaconda3\\lib\\site-packages\\sklearn\\utils\\validation.py:510: UserWarning: pandas.DataFrame with sparse columns found.It will be converted to a dense numpy array.\n",
      "  \"pandas.DataFrame with sparse columns found.\"\n"
     ]
    },
    {
     "data": {
      "text/plain": [
       "GridSearchCV(cv=5, estimator=RandomForestClassifier(n_jobs=-1, random_state=42),\n",
       "             n_jobs=-1,\n",
       "             param_grid={'max_depth': [2, 4, 6, 8],\n",
       "                         'max_features': [None, 'log2'],\n",
       "                         'min_samples_leaf': [0.1, 0.2, 0.3],\n",
       "                         'n_estimators': [10, 20, 50, 100]},\n",
       "             scoring='f1', verbose=1)"
      ]
     },
     "execution_count": 141,
     "metadata": {},
     "output_type": "execute_result"
    }
   ],
   "source": [
    "grid_rf.fit(X_train, y_train)"
   ]
  },
  {
   "cell_type": "code",
   "execution_count": 142,
   "metadata": {},
   "outputs": [
    {
     "name": "stdout",
     "output_type": "stream",
     "text": [
      "Best hyerparameters:\n",
      " {'max_depth': 2, 'max_features': None, 'min_samples_leaf': 0.3, 'n_estimators': 10}\n"
     ]
    }
   ],
   "source": [
    "best_hyperparams = grid_rf.best_params_\n",
    "print('Best hyerparameters:\\n', best_hyperparams)"
   ]
  },
  {
   "cell_type": "markdown",
   "metadata": {},
   "source": [
    "### the overall score decreases but the results for training and test data sets are very close"
   ]
  },
  {
   "cell_type": "code",
   "execution_count": 144,
   "metadata": {},
   "outputs": [
    {
     "name": "stderr",
     "output_type": "stream",
     "text": [
      "D:\\Anaconda3\\lib\\site-packages\\sklearn\\utils\\validation.py:510: UserWarning: pandas.DataFrame with sparse columns found.It will be converted to a dense numpy array.\n",
      "  \"pandas.DataFrame with sparse columns found.\"\n"
     ]
    },
    {
     "name": "stdout",
     "output_type": "stream",
     "text": [
      "              precision    recall  f1-score   support\n",
      "\n",
      "           0       0.67      0.70      0.68     70149\n",
      "           1       0.68      0.65      0.67     69851\n",
      "\n",
      "    accuracy                           0.68    140000\n",
      "   macro avg       0.68      0.68      0.67    140000\n",
      "weighted avg       0.68      0.68      0.67    140000\n",
      "\n"
     ]
    }
   ],
   "source": [
    "print(classification_report(y_train, grid_rf.predict(X_train)))"
   ]
  },
  {
   "cell_type": "code",
   "execution_count": 143,
   "metadata": {},
   "outputs": [
    {
     "name": "stderr",
     "output_type": "stream",
     "text": [
      "D:\\Anaconda3\\lib\\site-packages\\sklearn\\utils\\validation.py:510: UserWarning: pandas.DataFrame with sparse columns found.It will be converted to a dense numpy array.\n",
      "  \"pandas.DataFrame with sparse columns found.\"\n"
     ]
    },
    {
     "name": "stdout",
     "output_type": "stream",
     "text": [
      "              precision    recall  f1-score   support\n",
      "\n",
      "           0       0.66      0.70      0.68     29851\n",
      "           1       0.68      0.65      0.67     30149\n",
      "\n",
      "    accuracy                           0.67     60000\n",
      "   macro avg       0.67      0.67      0.67     60000\n",
      "weighted avg       0.67      0.67      0.67     60000\n",
      "\n"
     ]
    }
   ],
   "source": [
    "print(classification_report(y_test, grid_rf.predict(X_test)))"
   ]
  },
  {
   "cell_type": "markdown",
   "metadata": {},
   "source": [
    "### XGB with same features"
   ]
  },
  {
   "cell_type": "code",
   "execution_count": 21,
   "metadata": {},
   "outputs": [],
   "source": [
    "import xgboost as xgb"
   ]
  },
  {
   "cell_type": "code",
   "execution_count": 22,
   "metadata": {
    "scrolled": true
   },
   "outputs": [
    {
     "name": "stdout",
     "output_type": "stream",
     "text": [
      "Fitting 4 folds for each of 8 candidates, totalling 32 fits\n"
     ]
    },
    {
     "name": "stderr",
     "output_type": "stream",
     "text": [
      "[Parallel(n_jobs=-1)]: Using backend LokyBackend with 8 concurrent workers.\n",
      "[Parallel(n_jobs=-1)]: Done  32 out of  32 | elapsed: 24.0min finished\n"
     ]
    },
    {
     "name": "stdout",
     "output_type": "stream",
     "text": [
      "Best parameters found:  {'learning_rate': 0.1, 'n_estimators': 500, 'objective': 'reg:logistic', 'subsample': 0.2}\n"
     ]
    }
   ],
   "source": [
    "# DMatrix objects required by the XGBoost learning API.\n",
    "retweet_dmatrix = xgb.DMatrix(data=X_train,label=y_train)\n",
    "\n",
    "gbm_param_grid = {'objective':['reg:logistic'],\n",
    "                  'learning_rate': [0.1, 0.2],\n",
    "                  'n_estimators': [300, 500],\n",
    "                  'subsample': [0.1, 0.2],\n",
    "                  'max_depth':[3,4],\n",
    "                 }\n",
    "\n",
    "gbm = xgb.XGBClassifier()\n",
    "\n",
    "grid = GridSearchCV(estimator=gbm,param_grid=gbm_param_grid,\n",
    "scoring='f1', cv=4, verbose=1,n_jobs=-1)\n",
    "\n",
    "grid.fit(X_train, y_train)\n",
    "print(\"Best parameters found: \",grid.best_params_)"
   ]
  },
  {
   "cell_type": "code",
   "execution_count": 42,
   "metadata": {},
   "outputs": [
    {
     "name": "stdout",
     "output_type": "stream",
     "text": [
      "              precision    recall  f1-score   support\n",
      "\n",
      "           0       0.72      0.78      0.75      6983\n",
      "           1       0.76      0.70      0.73      7017\n",
      "\n",
      "    accuracy                           0.74     14000\n",
      "   macro avg       0.74      0.74      0.74     14000\n",
      "weighted avg       0.74      0.74      0.74     14000\n",
      "\n"
     ]
    }
   ],
   "source": [
    "#'learning_rate': [0.01, 0.1],'n_estimators': [300, 500],'subsample': [0.2, 0.3]}\n",
    "#Best parameters found:  {'learning_rate': 0.1, 'n_estimators': 500, 'objective': 'reg:logistic', 'subsample': 0.2}\n",
    "print(classification_report(y_train, grid.predict(X_train)))"
   ]
  },
  {
   "cell_type": "code",
   "execution_count": 43,
   "metadata": {},
   "outputs": [
    {
     "name": "stdout",
     "output_type": "stream",
     "text": [
      "              precision    recall  f1-score   support\n",
      "\n",
      "           0       0.73      0.77      0.75      3017\n",
      "           1       0.76      0.70      0.73      2983\n",
      "\n",
      "    accuracy                           0.74      6000\n",
      "   macro avg       0.74      0.74      0.74      6000\n",
      "weighted avg       0.74      0.74      0.74      6000\n",
      "\n"
     ]
    }
   ],
   "source": [
    "print(classification_report(y_test, grid.predict(X_test)))"
   ]
  },
  {
   "cell_type": "markdown",
   "metadata": {},
   "source": [
    "### The correlationship between variables"
   ]
  },
  {
   "cell_type": "code",
   "execution_count": 34,
   "metadata": {},
   "outputs": [
    {
     "data": {
      "text/plain": [
       "<matplotlib.axes._subplots.AxesSubplot at 0x18fe4c5e588>"
      ]
     },
     "execution_count": 34,
     "metadata": {},
     "output_type": "execute_result"
    },
    {
     "data": {
      "image/png": "[encoded data removed]",
      "text/plain": [
       "<Figure size 864x576 with 1 Axes>"
      ]
     },
     "metadata": {
      "needs_background": "light"
     },
     "output_type": "display_data"
    }
   ],
   "source": [
    "plt.figure(figsize=(12,8))\n",
    "sample_2.corr()['retweet_count'].sort_values().plot(kind='bar')"
   ]
  },
  {
   "cell_type": "markdown",
   "metadata": {},
   "source": [
    "### Deep learning (basic ANN with non-text features)"
   ]
  },
  {
   "cell_type": "code",
   "execution_count": 43,
   "metadata": {},
   "outputs": [],
   "source": [
    "import tensorflow as tf\n",
    "from tensorflow.keras.models import Sequential\n",
    "from tensorflow.keras.layers import Dense, Activation,Dropout"
   ]
  },
  {
   "cell_type": "code",
   "execution_count": 80,
   "metadata": {},
   "outputs": [],
   "source": [
    "from sklearn.preprocessing import MinMaxScaler"
   ]
  },
  {
   "cell_type": "code",
   "execution_count": 44,
   "metadata": {},
   "outputs": [],
   "source": [
    "from tensorflow.keras.callbacks import EarlyStopping"
   ]
  },
  {
   "cell_type": "code",
   "execution_count": 78,
   "metadata": {},
   "outputs": [],
   "source": [
    "X = sample_2.drop(['retweet_count'], axis=1).values\n",
    "y = sample_2.retweet_count.values\n",
    "X_train, X_test, y_train, y_test = train_test_split(X, y, test_size=0.25, random_state = 42)"
   ]
  },
  {
   "cell_type": "code",
   "execution_count": 81,
   "metadata": {},
   "outputs": [],
   "source": [
    "# different scale could make it hard to minima\n",
    "scaler = MinMaxScaler()\n",
    "scaler.fit(X_train)\n",
    "X_train = scaler.transform(X_train)\n",
    "X_test = scaler.transform(X_test)"
   ]
  },
  {
   "cell_type": "code",
   "execution_count": 82,
   "metadata": {},
   "outputs": [
    {
     "data": {
      "text/plain": [
       "(150000, 38)"
      ]
     },
     "execution_count": 82,
     "metadata": {},
     "output_type": "execute_result"
    }
   ],
   "source": [
    "X_train.shape"
   ]
  },
  {
   "cell_type": "code",
   "execution_count": 83,
   "metadata": {},
   "outputs": [
    {
     "data": {
      "text/plain": [
       "numpy.ndarray"
      ]
     },
     "execution_count": 83,
     "metadata": {},
     "output_type": "execute_result"
    }
   ],
   "source": [
    "X_train"
   ]
  },
  {
   "cell_type": "code",
   "execution_count": 45,
   "metadata": {},
   "outputs": [],
   "source": [
    "model = Sequential()\n",
    "\n",
    "model.add(Dense(units=38,activation='relu'))\n",
    "model.add(Dense(units=19,activation='relu'))\n",
    "model.add(Dense(units=1,activation='sigmoid'))\n",
    "\n",
    "# For a binary classification problem\n",
    "model.compile(loss='binary_crossentropy', optimizer='adam', metrics=['accuracy'])"
   ]
  },
  {
   "cell_type": "code",
   "execution_count": 46,
   "metadata": {},
   "outputs": [],
   "source": [
    "early_stop = EarlyStopping(monitor='val_loss', mode='min', verbose=1, patience=2)"
   ]
  },
  {
   "cell_type": "code",
   "execution_count": 102,
   "metadata": {},
   "outputs": [
    {
     "name": "stdout",
     "output_type": "stream",
     "text": [
      "Train on 150000 samples, validate on 50000 samples\n",
      "Epoch 1/200\n",
      "150000/150000 [==============================] - 8s 55us/sample - loss: 0.6364 - val_loss: 0.6267\n",
      "Epoch 2/200\n",
      "150000/150000 [==============================] - 8s 52us/sample - loss: 0.6272 - val_loss: 0.6225\n",
      "Epoch 3/200\n",
      "150000/150000 [==============================] - 8s 50us/sample - loss: 0.6249 - val_loss: 0.6205\n",
      "Epoch 4/200\n",
      "150000/150000 [==============================] - 7s 49us/sample - loss: 0.6235 - val_loss: 0.6208\n",
      "Epoch 5/200\n",
      "150000/150000 [==============================] - 8s 53us/sample - loss: 0.6224 - val_loss: 0.6185\n",
      "Epoch 6/200\n",
      "150000/150000 [==============================] - 8s 51us/sample - loss: 0.6210 - val_loss: 0.6171\n",
      "Epoch 7/200\n",
      "150000/150000 [==============================] - 8s 51us/sample - loss: 0.6196 - val_loss: 0.6210\n",
      "Epoch 8/200\n",
      "150000/150000 [==============================] - 8s 50us/sample - loss: 0.6183 - val_loss: 0.6158\n",
      "Epoch 9/200\n",
      "150000/150000 [==============================] - 8s 53us/sample - loss: 0.6174 - val_loss: 0.6151\n",
      "Epoch 10/200\n",
      "150000/150000 [==============================] - 8s 53us/sample - loss: 0.6164 - val_loss: 0.6138\n",
      "Epoch 11/200\n",
      "150000/150000 [==============================] - 10s 63us/sample - loss: 0.6155 - val_loss: 0.6144\n",
      "Epoch 12/200\n",
      "150000/150000 [==============================] - 9s 57us/sample - loss: 0.6148 - val_loss: 0.6126\n",
      "Epoch 13/200\n",
      "150000/150000 [==============================] - 9s 58us/sample - loss: 0.6139 - val_loss: 0.6134\n",
      "Epoch 14/200\n",
      "150000/150000 [==============================] - 10s 65us/sample - loss: 0.6132 - val_loss: 0.6160\n",
      "Epoch 15/200\n",
      "150000/150000 [==============================] - 10s 67us/sample - loss: 0.6124 - val_loss: 0.6111\n",
      "Epoch 16/200\n",
      "150000/150000 [==============================] - 9s 60us/sample - loss: 0.6115 - val_loss: 0.6128\n",
      "Epoch 17/200\n",
      "150000/150000 [==============================] - 10s 64us/sample - loss: 0.6110 - val_loss: 0.6107\n",
      "Epoch 18/200\n",
      "150000/150000 [==============================] - 10s 64us/sample - loss: 0.6099 - val_loss: 0.6088\n",
      "Epoch 19/200\n",
      "150000/150000 [==============================] - 10s 65us/sample - loss: 0.6095 - val_loss: 0.6078\n",
      "Epoch 20/200\n",
      "150000/150000 [==============================] - 9s 61us/sample - loss: 0.6087 - val_loss: 0.6081\n",
      "Epoch 21/200\n",
      "150000/150000 [==============================] - 9s 61us/sample - loss: 0.6079 - val_loss: 0.6066\n",
      "Epoch 22/200\n",
      "150000/150000 [==============================] - 10s 64us/sample - loss: 0.6073 - val_loss: 0.6060\n",
      "Epoch 23/200\n",
      "150000/150000 [==============================] - 9s 61us/sample - loss: 0.6065 - val_loss: 0.6060\n",
      "Epoch 24/200\n",
      "150000/150000 [==============================] - 9s 63us/sample - loss: 0.6059 - val_loss: 0.6073\n",
      "Epoch 25/200\n",
      "150000/150000 [==============================] - 9s 62us/sample - loss: 0.6048 - val_loss: 0.6044\n",
      "Epoch 26/200\n",
      "150000/150000 [==============================] - 9s 61us/sample - loss: 0.6046 - val_loss: 0.6044\n",
      "Epoch 27/200\n",
      "150000/150000 [==============================] - 9s 62us/sample - loss: 0.6037 - val_loss: 0.6037\n",
      "Epoch 28/200\n",
      "150000/150000 [==============================] - 9s 62us/sample - loss: 0.6033 - val_loss: 0.6040\n",
      "Epoch 29/200\n",
      "150000/150000 [==============================] - 9s 62us/sample - loss: 0.6024 - val_loss: 0.6028\n",
      "Epoch 30/200\n",
      "150000/150000 [==============================] - 11s 74us/sample - loss: 0.6021 - val_loss: 0.6040\n",
      "Epoch 31/200\n",
      "150000/150000 [==============================] - 12s 80us/sample - loss: 0.6016 - val_loss: 0.6025\n",
      "Epoch 32/200\n",
      "150000/150000 [==============================] - 12s 80us/sample - loss: 0.6008 - val_loss: 0.6031\n",
      "Epoch 33/200\n",
      "150000/150000 [==============================] - 11s 76us/sample - loss: 0.6002 - val_loss: 0.6028\n",
      "Epoch 34/200\n",
      "150000/150000 [==============================] - 9s 62us/sample - loss: 0.5995 - val_loss: 0.6012\n",
      "Epoch 35/200\n",
      "150000/150000 [==============================] - 9s 62us/sample - loss: 0.5990 - val_loss: 0.6027\n",
      "Epoch 36/200\n",
      "150000/150000 [==============================] - 10s 64us/sample - loss: 0.5986 - val_loss: 0.6000\n",
      "Epoch 37/200\n",
      "150000/150000 [==============================] - 10s 63us/sample - loss: 0.5982 - val_loss: 0.6002\n",
      "Epoch 38/200\n",
      "150000/150000 [==============================] - 10s 65us/sample - loss: 0.5975 - val_loss: 0.5986\n",
      "Epoch 39/200\n",
      "150000/150000 [==============================] - 10s 64us/sample - loss: 0.5969 - val_loss: 0.5980\n",
      "Epoch 40/200\n",
      "150000/150000 [==============================] - 10s 64us/sample - loss: 0.5964 - val_loss: 0.6013\n",
      "Epoch 41/200\n",
      "150000/150000 [==============================] - 9s 62us/sample - loss: 0.5960 - val_loss: 0.5999\n",
      "Epoch 42/200\n",
      "150000/150000 [==============================] - 9s 62us/sample - loss: 0.5957 - val_loss: 0.5978\n",
      "Epoch 43/200\n",
      "150000/150000 [==============================] - 9s 62us/sample - loss: 0.5949 - val_loss: 0.5962\n",
      "Epoch 44/200\n",
      "150000/150000 [==============================] - 9s 62us/sample - loss: 0.5947 - val_loss: 0.5954\n",
      "Epoch 45/200\n",
      "150000/150000 [==============================] - 9s 63us/sample - loss: 0.5941 - val_loss: 0.5981\n",
      "Epoch 46/200\n",
      "150000/150000 [==============================] - 10s 64us/sample - loss: 0.5938 - val_loss: 0.5964\n",
      "Epoch 47/200\n",
      "150000/150000 [==============================] - 11s 74us/sample - loss: 0.5933 - val_loss: 0.5955\n",
      "Epoch 48/200\n",
      "150000/150000 [==============================] - 9s 61us/sample - loss: 0.5930 - val_loss: 0.5966\n",
      "Epoch 00048: early stopping\n"
     ]
    },
    {
     "data": {
      "text/plain": [
       "<tensorflow.python.keras.callbacks.History at 0x17d05672080>"
      ]
     },
     "execution_count": 102,
     "metadata": {},
     "output_type": "execute_result"
    }
   ],
   "source": [
    "model.fit(x=X_train, \n",
    "          y=y_train, \n",
    "          epochs=200,\n",
    "          validation_data=(X_test, y_test), verbose=1,\n",
    "          callbacks=[early_stop]\n",
    "          )"
   ]
  },
  {
   "cell_type": "code",
   "execution_count": 104,
   "metadata": {},
   "outputs": [],
   "source": [
    "predictions = model.predict_classes(X_test)"
   ]
  },
  {
   "cell_type": "code",
   "execution_count": 105,
   "metadata": {},
   "outputs": [
    {
     "name": "stdout",
     "output_type": "stream",
     "text": [
      "              precision    recall  f1-score   support\n",
      "\n",
      "           0       0.64      0.80      0.71     75106\n",
      "           1       0.73      0.56      0.63     74894\n",
      "\n",
      "    accuracy                           0.68    150000\n",
      "   macro avg       0.69      0.68      0.67    150000\n",
      "weighted avg       0.69      0.68      0.67    150000\n",
      "\n"
     ]
    }
   ],
   "source": [
    "print(classification_report(y_train,model.predict_classes(X_train)))"
   ]
  },
  {
   "cell_type": "code",
   "execution_count": 106,
   "metadata": {},
   "outputs": [
    {
     "name": "stdout",
     "output_type": "stream",
     "text": [
      "              precision    recall  f1-score   support\n",
      "\n",
      "           0       0.64      0.79      0.71     24894\n",
      "           1       0.73      0.56      0.63     25106\n",
      "\n",
      "    accuracy                           0.67     50000\n",
      "   macro avg       0.68      0.67      0.67     50000\n",
      "weighted avg       0.68      0.67      0.67     50000\n",
      "\n"
     ]
    }
   ],
   "source": [
    "print(classification_report(y_test,predictions))"
   ]
  },
  {
   "cell_type": "markdown",
   "metadata": {},
   "source": [
    "### dropout"
   ]
  },
  {
   "cell_type": "code",
   "execution_count": 107,
   "metadata": {},
   "outputs": [],
   "source": [
    "model_dropout = Sequential()\n",
    "model_dropout.add(Dense(units=38,activation='relu'))\n",
    "model_dropout.add(Dropout(0.5))\n",
    "\n",
    "model_dropout.add(Dense(units=19,activation='relu'))\n",
    "model_dropout.add(Dropout(0.5))\n",
    "\n",
    "model_dropout.add(Dense(units=1,activation='sigmoid'))\n",
    "model_dropout.compile(loss='binary_crossentropy', optimizer='adam')"
   ]
  },
  {
   "cell_type": "code",
   "execution_count": 108,
   "metadata": {},
   "outputs": [
    {
     "name": "stdout",
     "output_type": "stream",
     "text": [
      "Train on 150000 samples, validate on 50000 samples\n",
      "Epoch 1/600\n",
      "150000/150000 [==============================] - 10s 64us/sample - loss: 0.6590 - val_loss: 0.6369\n",
      "Epoch 2/600\n",
      "150000/150000 [==============================] - 10s 65us/sample - loss: 0.6435 - val_loss: 0.6274\n",
      "Epoch 3/600\n",
      "150000/150000 [==============================] - 10s 65us/sample - loss: 0.6384 - val_loss: 0.6243\n",
      "Epoch 4/600\n",
      "150000/150000 [==============================] - 10s 65us/sample - loss: 0.6371 - val_loss: 0.6246\n",
      "Epoch 5/600\n",
      "150000/150000 [==============================] - 10s 65us/sample - loss: 0.6356 - val_loss: 0.6228\n",
      "Epoch 6/600\n",
      "150000/150000 [==============================] - 10s 66us/sample - loss: 0.6357 - val_loss: 0.6227\n",
      "Epoch 7/600\n",
      "150000/150000 [==============================] - 10s 66us/sample - loss: 0.6352 - val_loss: 0.6218\n",
      "Epoch 8/600\n",
      "150000/150000 [==============================] - 10s 68us/sample - loss: 0.6337 - val_loss: 0.6220\n",
      "Epoch 9/600\n",
      "150000/150000 [==============================] - 10s 69us/sample - loss: 0.6339 - val_loss: 0.6215\n",
      "Epoch 10/600\n",
      "150000/150000 [==============================] - 11s 70us/sample - loss: 0.6331 - val_loss: 0.6218\n",
      "Epoch 11/600\n",
      "150000/150000 [==============================] - 11s 72us/sample - loss: 0.6327 - val_loss: 0.6208\n",
      "Epoch 12/600\n",
      "150000/150000 [==============================] - 10s 68us/sample - loss: 0.6333 - val_loss: 0.6202\n",
      "Epoch 13/600\n",
      "150000/150000 [==============================] - 10s 69us/sample - loss: 0.6323 - val_loss: 0.6212\n",
      "Epoch 14/600\n",
      "150000/150000 [==============================] - 10s 68us/sample - loss: 0.6324 - val_loss: 0.6199\n",
      "Epoch 15/600\n",
      "150000/150000 [==============================] - 10s 68us/sample - loss: 0.6315 - val_loss: 0.6205\n",
      "Epoch 16/600\n",
      "150000/150000 [==============================] - 10s 68us/sample - loss: 0.6317 - val_loss: 0.6220\n",
      "Epoch 17/600\n",
      "150000/150000 [==============================] - 10s 69us/sample - loss: 0.6317 - val_loss: 0.6198\n",
      "Epoch 18/600\n",
      "150000/150000 [==============================] - 10s 70us/sample - loss: 0.6315 - val_loss: 0.6209\n",
      "Epoch 19/600\n",
      "150000/150000 [==============================] - 10s 70us/sample - loss: 0.6312 - val_loss: 0.6186\n",
      "Epoch 20/600\n",
      "150000/150000 [==============================] - 10s 69us/sample - loss: 0.6308 - val_loss: 0.6185\n",
      "Epoch 21/600\n",
      "150000/150000 [==============================] - 10s 68us/sample - loss: 0.6311 - val_loss: 0.6178\n",
      "Epoch 22/600\n",
      "150000/150000 [==============================] - 10s 69us/sample - loss: 0.6307 - val_loss: 0.6184\n",
      "Epoch 23/600\n",
      "150000/150000 [==============================] - 10s 69us/sample - loss: 0.6301 - val_loss: 0.6181\n",
      "Epoch 24/600\n",
      "150000/150000 [==============================] - 10s 68us/sample - loss: 0.6304 - val_loss: 0.6172\n",
      "Epoch 25/600\n",
      "150000/150000 [==============================] - 12s 81us/sample - loss: 0.6302 - val_loss: 0.6184\n",
      "Epoch 26/600\n",
      "150000/150000 [==============================] - 12s 80us/sample - loss: 0.6303 - val_loss: 0.6181\n",
      "Epoch 27/600\n",
      "150000/150000 [==============================] - 11s 74us/sample - loss: 0.6300 - val_loss: 0.6175\n",
      "Epoch 28/600\n",
      "150000/150000 [==============================] - 10s 70us/sample - loss: 0.6294 - val_loss: 0.6169\n",
      "Epoch 29/600\n",
      "150000/150000 [==============================] - 13s 85us/sample - loss: 0.6292 - val_loss: 0.6169\n",
      "Epoch 30/600\n",
      "150000/150000 [==============================] - 12s 79us/sample - loss: 0.6296 - val_loss: 0.6171\n",
      "Epoch 31/600\n",
      "150000/150000 [==============================] - 11s 71us/sample - loss: 0.6293 - val_loss: 0.6164\n",
      "Epoch 32/600\n",
      "150000/150000 [==============================] - 10s 69us/sample - loss: 0.6292 - val_loss: 0.6179\n",
      "Epoch 33/600\n",
      "150000/150000 [==============================] - 10s 68us/sample - loss: 0.6291 - val_loss: 0.6184\n",
      "Epoch 34/600\n",
      "150000/150000 [==============================] - 11s 74us/sample - loss: 0.6281 - val_loss: 0.6153\n",
      "Epoch 35/600\n",
      "150000/150000 [==============================] - 12s 80us/sample - loss: 0.6277 - val_loss: 0.6159\n",
      "Epoch 36/600\n",
      "150000/150000 [==============================] - 11s 73us/sample - loss: 0.6274 - val_loss: 0.6154\n",
      "Epoch 37/600\n",
      "150000/150000 [==============================] - 12s 77us/sample - loss: 0.6280 - val_loss: 0.6164\n",
      "Epoch 38/600\n",
      "150000/150000 [==============================] - 11s 71us/sample - loss: 0.6283 - val_loss: 0.6152\n",
      "Epoch 39/600\n",
      "150000/150000 [==============================] - 10s 70us/sample - loss: 0.6281 - val_loss: 0.6155\n",
      "Epoch 40/600\n",
      "150000/150000 [==============================] - 10s 68us/sample - loss: 0.6273 - val_loss: 0.6138\n",
      "Epoch 41/600\n",
      "150000/150000 [==============================] - 10s 67us/sample - loss: 0.6274 - val_loss: 0.6133\n",
      "Epoch 42/600\n",
      "150000/150000 [==============================] - 10s 67us/sample - loss: 0.6273 - val_loss: 0.6146\n",
      "Epoch 43/600\n",
      "150000/150000 [==============================] - 10s 67us/sample - loss: 0.6269 - val_loss: 0.6131\n",
      "Epoch 44/600\n",
      "150000/150000 [==============================] - 10s 67us/sample - loss: 0.6274 - val_loss: 0.6134\n",
      "Epoch 45/600\n",
      "150000/150000 [==============================] - 10s 70us/sample - loss: 0.6268 - val_loss: 0.6118\n",
      "Epoch 46/600\n",
      "150000/150000 [==============================] - 10s 69us/sample - loss: 0.6259 - val_loss: 0.6133\n",
      "Epoch 47/600\n",
      "150000/150000 [==============================] - 10s 70us/sample - loss: 0.6256 - val_loss: 0.6120\n",
      "Epoch 48/600\n",
      "150000/150000 [==============================] - 10s 67us/sample - loss: 0.6263 - val_loss: 0.6133\n",
      "Epoch 49/600\n",
      "150000/150000 [==============================] - 10s 67us/sample - loss: 0.6254 - val_loss: 0.6115\n",
      "Epoch 50/600\n",
      "150000/150000 [==============================] - 10s 67us/sample - loss: 0.6252 - val_loss: 0.6122\n",
      "Epoch 51/600\n",
      "150000/150000 [==============================] - 10s 69us/sample - loss: 0.6252 - val_loss: 0.6120\n",
      "Epoch 52/600\n",
      "150000/150000 [==============================] - 10s 69us/sample - loss: 0.6254 - val_loss: 0.6107\n",
      "Epoch 53/600\n",
      "150000/150000 [==============================] - 11s 73us/sample - loss: 0.6247 - val_loss: 0.6103\n",
      "Epoch 54/600\n",
      "150000/150000 [==============================] - 10s 69us/sample - loss: 0.6255 - val_loss: 0.6104\n",
      "Epoch 55/600\n",
      "150000/150000 [==============================] - 10s 68us/sample - loss: 0.6253 - val_loss: 0.6104\n",
      "Epoch 56/600\n",
      "150000/150000 [==============================] - 10s 67us/sample - loss: 0.6245 - val_loss: 0.6104\n",
      "Epoch 57/600\n",
      "150000/150000 [==============================] - 10s 67us/sample - loss: 0.6246 - val_loss: 0.6091\n",
      "Epoch 58/600\n",
      "150000/150000 [==============================] - 10s 65us/sample - loss: 0.6241 - val_loss: 0.6104\n",
      "Epoch 59/600\n",
      "150000/150000 [==============================] - 11s 72us/sample - loss: 0.6242 - val_loss: 0.6099\n",
      "Epoch 60/600\n",
      "150000/150000 [==============================] - 12s 78us/sample - loss: 0.6241 - val_loss: 0.6096\n",
      "Epoch 61/600\n",
      "150000/150000 [==============================] - 10s 66us/sample - loss: 0.6241 - val_loss: 0.6110\n",
      "Epoch 00061: early stopping\n"
     ]
    },
    {
     "data": {
      "text/plain": [
       "<tensorflow.python.keras.callbacks.History at 0x17d079b76d8>"
      ]
     },
     "execution_count": 108,
     "metadata": {},
     "output_type": "execute_result"
    }
   ],
   "source": [
    "model_dropout.fit(x=X_train, \n",
    "          y=y_train, \n",
    "          epochs=600,\n",
    "          validation_data=(X_test, y_test), verbose=1,\n",
    "          callbacks=[early_stop]\n",
    "          )"
   ]
  },
  {
   "cell_type": "code",
   "execution_count": 110,
   "metadata": {},
   "outputs": [
    {
     "name": "stdout",
     "output_type": "stream",
     "text": [
      "              precision    recall  f1-score   support\n",
      "\n",
      "           0       0.62      0.80      0.70     75106\n",
      "           1       0.72      0.51      0.60     74894\n",
      "\n",
      "    accuracy                           0.66    150000\n",
      "   macro avg       0.67      0.66      0.65    150000\n",
      "weighted avg       0.67      0.66      0.65    150000\n",
      "\n"
     ]
    }
   ],
   "source": [
    "print(classification_report(y_train,model_dropout.predict_classes(X_train)))"
   ]
  },
  {
   "cell_type": "code",
   "execution_count": 111,
   "metadata": {},
   "outputs": [
    {
     "name": "stdout",
     "output_type": "stream",
     "text": [
      "              precision    recall  f1-score   support\n",
      "\n",
      "           0       0.62      0.80      0.70     24894\n",
      "           1       0.72      0.51      0.60     25106\n",
      "\n",
      "    accuracy                           0.66     50000\n",
      "   macro avg       0.67      0.66      0.65     50000\n",
      "weighted avg       0.67      0.66      0.65     50000\n",
      "\n"
     ]
    }
   ],
   "source": [
    "print(classification_report(y_test,model_dropout.predict_classes(X_test)))"
   ]
  },
  {
   "cell_type": "code",
   "execution_count": null,
   "metadata": {},
   "outputs": [],
   "source": []
  }
 ],
 "metadata": {
  "kernelspec": {
   "display_name": "Python 3",
   "language": "python",
   "name": "python3"
  },
  "language_info": {
   "codemirror_mode": {
    "name": "ipython",
    "version": 3
   },
   "file_extension": ".py",
   "mimetype": "text/x-python",
   "name": "python",
   "nbconvert_exporter": "python",
   "pygments_lexer": "ipython3",
   "version": "3.6.10"
  }
 },
 "nbformat": 4,
 "nbformat_minor": 2
}
